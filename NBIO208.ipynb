{
  "nbformat": 4,
  "nbformat_minor": 0,
  "metadata": {
    "colab": {
      "name": "NBIO208.ipynb",
      "provenance": [],
      "collapsed_sections": []
    },
    "kernelspec": {
      "display_name": "Python 3",
      "language": "python",
      "name": "python3"
    },
    "language_info": {
      "codemirror_mode": {
        "name": "ipython",
        "version": 3
      },
      "file_extension": ".py",
      "mimetype": "text/x-python",
      "name": "python",
      "nbconvert_exporter": "python",
      "pygments_lexer": "ipython3",
      "version": "3.8.5"
    },
    "papermill": {
      "duration": 11.308284,
      "end_time": "2021-01-28T05:37:53.680473",
      "environment_variables": {},
      "exception": null,
      "input_path": "__notebook__.ipynb",
      "output_path": "__notebook__.ipynb",
      "parameters": {},
      "start_time": "2021-01-28T05:37:42.372189",
      "version": "2.1.0"
    }
  },
  "cells": [
    {
      "cell_type": "markdown",
      "metadata": {
        "id": "0hgErj1IiJG1"
      },
      "source": [
        "# NBIO208. Statistical Testing in Python"
      ]
    },
    {
      "cell_type": "markdown",
      "metadata": {
        "id": "4DBpQPRniJG1"
      },
      "source": [
        "The goal of this lesson is to introduce Python libraries, load and look at a dataset, begin some common statistical testing.  It includes:\n",
        "- [1 The simplicity underlying common statistical tests](#anchor1)\n",
        "- [2 The python environment](#anchor2)\n",
        "- [A note about $p$-values](#anchor2b)\n",
        "- [3 Pearson and Spearman correlation](#anchor3)\n",
        "- [4 One mean comparisons](#anchor4)\n",
        "- [5 Many mean comparisons](#anchor5)\n",
        "- [6 Checking assumptions](#anchor6)\n",
        "- [Resources](#anchor7)"
      ]
    },
    {
      "cell_type": "markdown",
      "metadata": {
        "id": "0b3h8W5-iJG2"
      },
      "source": [
        "<a name=\"anchor1\"></a>\n",
        "## 1 The simplicity underlying common statistical tests\n",
        "\n",
        "Most of the common statistical models (t-test, correlation, ANOVA, chi-square, etc.) are special cases of linear models, or a very close approximation. This beautiful simplicity means that there is less to learn. In particular, it all comes down to $y = a \\cdot x + b$, where $a$ is the slope of the line and $b$ is the y-intercept where the line crosses the y-axis. \n",
        "\n",
        "There are certain assumptions we check to use these \"parametric tests.\"  When assumptions are not met, we have alternative \"non-parametric\" counterparts.  We will think of \"non-parametric\"\" tests as ranked versions of the corresponding parametric tests. \n",
        "\n",
        "This lesson is adapted from [Tests as Linear](https://github.com/eigenfoo/tests-as-linear), which is also available [in R](https://github.com/lindeloev/tests-as-linear). \n",
        "\n",
        "**See the [Cheat Sheet](https://lindeloev.github.io/tests-as-linear/linear_tests_cheat_sheet.pdf)**"
      ]
    },
    {
      "cell_type": "markdown",
      "metadata": {
        "id": "3hYxOGLBchMJ"
      },
      "source": [
        "<a name=\"anchor2\"></a>\n",
        "## 2 The Python Environment"
      ]
    },
    {
      "cell_type": "markdown",
      "metadata": {
        "id": "Sno4smqRiJG3"
      },
      "source": [
        "In part 2, we will:\n",
        "<img src=\"https://github.com/DeisData/datasets/blob/main/Part2_steps.png?raw=true?raw=true\" alt=\"drawing\" style=\"width:350px;\"/>"
      ]
    },
    {
      "cell_type": "markdown",
      "metadata": {
        "id": "RwuaB2M7iJG3"
      },
      "source": [
        "### 2.1.  Load libraries. <a class=\"anchor\" id=\"bullet2\"></a>\n",
        "Think of these as useful powerful toolboxes we are opening up on our workbench. Many additional libraries are available from the Python Package Index.\n",
        "\n",
        "we `import` some key scientific libraries, sometimes using a shorter *alias* for ease of coding, with the syntax `import library_name as alias_name` \n",
        "\n",
        "- [numpy](https://numpy.org) - adding support for large, multi-dimensional arrays and matrices, and mathematical functions for arrays.\n",
        "- [pandas](https://pandas.pydata.org/) - offers data structures and operations for manipulating numerical tables and time series.\n",
        "- [matplotlib](https://matplotlib.org/) - the most widely used scientific plotting library in Python.\n",
        "- [seaborn](https://seaborn.pydata.org/) - for drawing attractive and informative statistical graphics.\n",
        "- [statsmodels](https://www.statsmodels.org/stable/index.html) and [scipy](https://www.scipy.org/) for hypothesis testing and regression models."
      ]
    },
    {
      "cell_type": "code",
      "metadata": {
        "id": "8TEg4K1AiJG3"
      },
      "source": [
        "# [1]:\n",
        "# Python libraries for data structures, arrays, and math\n",
        "import numpy as np\n",
        "import pandas as pd\n",
        "\n",
        "# Libraris for plotting\n",
        "import matplotlib.pyplot as plt\n",
        "import seaborn as sns\n",
        "\n",
        "# Importing the statistics module\n",
        "import statistics\n",
        "\n",
        "# Library for hypothesis testing\n",
        "import scipy\n",
        "\n",
        "# Libraries for regression modeling\n",
        "import statsmodels.api as sm\n",
        "import statsmodels.formula.api as smf\n",
        "\n",
        "# Library for latex \n",
        "from IPython.display import Latex, display, Markdown"
      ],
      "execution_count": null,
      "outputs": []
    },
    {
      "cell_type": "markdown",
      "metadata": {
        "id": "mbR3OGMiiJG4"
      },
      "source": [
        "### 2.2 Load data.<a class=\"anchor\" id=\"bullet3\"></a>\n",
        "Loads a copy of the data into our environment.  Unlike working with a spreadsheet, it does not affect the original file.\n",
        "\n",
        "*Our data*  This synthetic dataset contains information on new born babies and their parents.  It comes from [here](https://www.sheffield.ac.uk/mash/statistics/datasets). \n",
        "\n",
        "Read a Comma Separated Values (CSV) data file with `pd.read_csv()`. \n",
        "*[Need to read in a different file type?](https://realpython.com/pandas-read-write-files/)*\n",
        "- Argument is the name of the file to be read.\n",
        "- Assign result to a variable to store the data that was read."
      ]
    },
    {
      "cell_type": "code",
      "metadata": {
        "id": "jWi0xwl1iJG4"
      },
      "source": [
        "# url is the name and path of the data file\n",
        "url = \"https://raw.githubusercontent.com/DeisData/datasets/main/Birthweight_reduced_kg_R.csv\"\n",
        "\n",
        "# data is the name of the dataFrame we are storing our data in\n",
        "# pd is pandas and read_csv is a tool in pandas for reading in a csv file\n",
        "data = pd.read_csv(url)    "
      ],
      "execution_count": null,
      "outputs": []
    },
    {
      "cell_type": "markdown",
      "metadata": {
        "id": "hG_fqj-WiJG5"
      },
      "source": [
        "### 2.3. Inspect the data table <a class=\"anchor\" id=\"bullet4\"></a>\n",
        "There are lots of functions and methods we can apply to the dataframe to start inspecting it."
      ]
    },
    {
      "cell_type": "markdown",
      "metadata": {
        "id": "5YtAh5rqiJG5"
      },
      "source": [
        "<div class=\"alert alert-block alert-info\">Functions attached to objects are called methods.  They are common in pandas.  Methods have parentheses like functions, but come after the variable.\n",
        "</div>"
      ]
    },
    {
      "cell_type": "code",
      "metadata": {
        "id": "IhO5uiE8iJG5",
        "outputId": "e37a4921-b815-4ea3-ebac-1852c2206532"
      },
      "source": [
        "# Method to view head of dataset\n",
        "data.head()"
      ],
      "execution_count": null,
      "outputs": [
        {
          "data": {
            "text/html": [
              "<div>\n",
              "<style scoped>\n",
              "    .dataframe tbody tr th:only-of-type {\n",
              "        vertical-align: middle;\n",
              "    }\n",
              "\n",
              "    .dataframe tbody tr th {\n",
              "        vertical-align: top;\n",
              "    }\n",
              "\n",
              "    .dataframe thead th {\n",
              "        text-align: right;\n",
              "    }\n",
              "</style>\n",
              "<table border=\"1\" class=\"dataframe\">\n",
              "  <thead>\n",
              "    <tr style=\"text-align: right;\">\n",
              "      <th></th>\n",
              "      <th>ID</th>\n",
              "      <th>Length</th>\n",
              "      <th>Birthweight</th>\n",
              "      <th>Headcirc</th>\n",
              "      <th>Gestation</th>\n",
              "      <th>smoker</th>\n",
              "      <th>mage</th>\n",
              "      <th>mnocig</th>\n",
              "      <th>mheight</th>\n",
              "      <th>mppwt</th>\n",
              "      <th>fage</th>\n",
              "      <th>fedyrs</th>\n",
              "      <th>fnocig</th>\n",
              "      <th>fheight</th>\n",
              "      <th>lowbwt</th>\n",
              "      <th>mage35</th>\n",
              "    </tr>\n",
              "  </thead>\n",
              "  <tbody>\n",
              "    <tr>\n",
              "      <th>0</th>\n",
              "      <td>1360</td>\n",
              "      <td>56</td>\n",
              "      <td>4.55</td>\n",
              "      <td>34</td>\n",
              "      <td>44</td>\n",
              "      <td>0</td>\n",
              "      <td>20</td>\n",
              "      <td>0</td>\n",
              "      <td>162</td>\n",
              "      <td>57</td>\n",
              "      <td>23</td>\n",
              "      <td>10</td>\n",
              "      <td>35</td>\n",
              "      <td>179</td>\n",
              "      <td>0</td>\n",
              "      <td>0</td>\n",
              "    </tr>\n",
              "    <tr>\n",
              "      <th>1</th>\n",
              "      <td>1016</td>\n",
              "      <td>53</td>\n",
              "      <td>4.32</td>\n",
              "      <td>36</td>\n",
              "      <td>40</td>\n",
              "      <td>0</td>\n",
              "      <td>19</td>\n",
              "      <td>0</td>\n",
              "      <td>171</td>\n",
              "      <td>62</td>\n",
              "      <td>19</td>\n",
              "      <td>12</td>\n",
              "      <td>0</td>\n",
              "      <td>183</td>\n",
              "      <td>0</td>\n",
              "      <td>0</td>\n",
              "    </tr>\n",
              "    <tr>\n",
              "      <th>2</th>\n",
              "      <td>462</td>\n",
              "      <td>58</td>\n",
              "      <td>4.10</td>\n",
              "      <td>39</td>\n",
              "      <td>41</td>\n",
              "      <td>0</td>\n",
              "      <td>35</td>\n",
              "      <td>0</td>\n",
              "      <td>172</td>\n",
              "      <td>58</td>\n",
              "      <td>31</td>\n",
              "      <td>16</td>\n",
              "      <td>25</td>\n",
              "      <td>185</td>\n",
              "      <td>0</td>\n",
              "      <td>1</td>\n",
              "    </tr>\n",
              "    <tr>\n",
              "      <th>3</th>\n",
              "      <td>1187</td>\n",
              "      <td>53</td>\n",
              "      <td>4.07</td>\n",
              "      <td>38</td>\n",
              "      <td>44</td>\n",
              "      <td>0</td>\n",
              "      <td>20</td>\n",
              "      <td>0</td>\n",
              "      <td>174</td>\n",
              "      <td>68</td>\n",
              "      <td>26</td>\n",
              "      <td>14</td>\n",
              "      <td>25</td>\n",
              "      <td>189</td>\n",
              "      <td>0</td>\n",
              "      <td>0</td>\n",
              "    </tr>\n",
              "    <tr>\n",
              "      <th>4</th>\n",
              "      <td>553</td>\n",
              "      <td>54</td>\n",
              "      <td>3.94</td>\n",
              "      <td>37</td>\n",
              "      <td>42</td>\n",
              "      <td>0</td>\n",
              "      <td>24</td>\n",
              "      <td>0</td>\n",
              "      <td>175</td>\n",
              "      <td>66</td>\n",
              "      <td>30</td>\n",
              "      <td>12</td>\n",
              "      <td>0</td>\n",
              "      <td>184</td>\n",
              "      <td>0</td>\n",
              "      <td>0</td>\n",
              "    </tr>\n",
              "  </tbody>\n",
              "</table>\n",
              "</div>"
            ],
            "text/plain": [
              "     ID  Length  Birthweight  Headcirc  Gestation  smoker  mage  mnocig  \\\n",
              "0  1360      56         4.55        34         44       0    20       0   \n",
              "1  1016      53         4.32        36         40       0    19       0   \n",
              "2   462      58         4.10        39         41       0    35       0   \n",
              "3  1187      53         4.07        38         44       0    20       0   \n",
              "4   553      54         3.94        37         42       0    24       0   \n",
              "\n",
              "   mheight  mppwt  fage  fedyrs  fnocig  fheight  lowbwt  mage35  \n",
              "0      162     57    23      10      35      179       0       0  \n",
              "1      171     62    19      12       0      183       0       0  \n",
              "2      172     58    31      16      25      185       0       1  \n",
              "3      174     68    26      14      25      189       0       0  \n",
              "4      175     66    30      12       0      184       0       0  "
            ]
          },
          "execution_count": 190,
          "metadata": {},
          "output_type": "execute_result"
        }
      ]
    },
    {
      "cell_type": "markdown",
      "metadata": {
        "id": "YO-L17ywiJG6"
      },
      "source": [
        "<p class=MsoNormal><span lang=EN-GB>This dataset contains information on new\n",
        "born babies and their parents.<span style='mso-spacerun:yes'>  </span>It\n",
        "contains mostly continuous variables (although some have only a few values <span\n",
        "class=GramE>e.g.</span> number of cigarettes smoked per day) and is most useful\n",
        "for correlation and regression.<span style='mso-spacerun:yes'>  </span><span style='mso-spacerun:yes'> </span></span></p>\n",
        "\n",
        "<p class=MsoNormal><span lang=EN-GB>Main dependent variable = Birthweight (lbs)</span></p>\n",
        "\n",
        "<table class=MsoNormalTable border=0 cellspacing=0 cellpadding=0 width=600\n",
        " style='width:6.25in;margin-left:4.65pt;border-collapse:collapse;mso-yfti-tbllook:\n",
        " 1184;mso-padding-alt:0in 5.4pt 0in 5.4pt'>\n",
        " <tr style='mso-yfti-irow:0;mso-yfti-firstrow:yes;height:21.0pt'>\n",
        "  <td width=129 style='width:96.65pt;border-top:solid #4BACC6 1.0pt;border-left:\n",
        "  solid #4BACC6 1.0pt;border-bottom:none;border-right:none;background:#4BACC6;\n",
        "  padding:0in 5.4pt 0in 5.4pt;height:21.0pt'>\n",
        "  <p class=MsoNormal style='margin-bottom:0in;line-height:normal'><b><span\n",
        "  lang=EN-GB style='mso-ascii-font-family:Calibri;mso-fareast-font-family:\"Times New Roman\";\n",
        "  mso-hansi-font-family:Calibri;mso-bidi-font-family:\"Times New Roman\";\n",
        "  color:white;mso-themecolor:background1;mso-fareast-language:EN-GB'>Name</span></b><b><span\n",
        "  lang=EN-GB style='mso-ascii-font-family:Calibri;mso-fareast-font-family:\"Times New Roman\";\n",
        "  mso-hansi-font-family:Calibri;mso-bidi-font-family:\"Times New Roman\";\n",
        "  color:white;mso-fareast-language:EN-GB'><o:p></o:p></span></b></p>\n",
        "  </td>\n",
        "  <td width=316 style='width:237.25pt;border:none;border-top:solid #4BACC6 1.0pt;\n",
        "  background:#4BACC6;padding:0in 5.4pt 0in 5.4pt;height:21.0pt'>\n",
        "  <p class=MsoNormal style='margin-bottom:0in;line-height:normal'><b><span\n",
        "  lang=EN-GB style='mso-ascii-font-family:Calibri;mso-fareast-font-family:\"Times New Roman\";\n",
        "  mso-hansi-font-family:Calibri;mso-bidi-font-family:\"Times New Roman\";\n",
        "  color:white;mso-themecolor:background1;mso-fareast-language:EN-GB'>Variable</span></b><b><span\n",
        "  lang=EN-GB style='mso-ascii-font-family:Calibri;mso-fareast-font-family:\"Times New Roman\";\n",
        "  mso-hansi-font-family:Calibri;mso-bidi-font-family:\"Times New Roman\";\n",
        "  color:white;mso-fareast-language:EN-GB'><o:p></o:p></span></b></p>\n",
        "  </td>\n",
        "  <td width=155 style='width:116.1pt;border-top:solid #4BACC6 1.0pt;border-left:\n",
        "  none;border-bottom:none;border-right:solid #4BACC6 1.0pt;background:#4BACC6;\n",
        "  padding:0in 5.4pt 0in 5.4pt;height:21.0pt'>\n",
        "  <p class=MsoNormal style='margin-bottom:0in;line-height:normal'><b><span\n",
        "  lang=EN-GB style='mso-ascii-font-family:Calibri;mso-fareast-font-family:\"Times New Roman\";\n",
        "  mso-hansi-font-family:Calibri;mso-bidi-font-family:\"Times New Roman\";\n",
        "  color:white;mso-themecolor:background1;mso-fareast-language:EN-GB'>Data type</span></b><b><span\n",
        "  lang=EN-GB style='mso-ascii-font-family:Calibri;mso-fareast-font-family:\"Times New Roman\";\n",
        "  mso-hansi-font-family:Calibri;mso-bidi-font-family:\"Times New Roman\";\n",
        "  color:white;mso-fareast-language:EN-GB'><o:p></o:p></span></b></p>\n",
        "  </td>\n",
        " </tr>\n",
        " <tr style='mso-yfti-irow:1;height:13.85pt'>\n",
        "  <td width=129 style='width:96.65pt;border:solid #4BACC6 1.0pt;border-right:\n",
        "  none;padding:0in 5.4pt 0in 5.4pt;height:13.85pt'>\n",
        "  <p class=MsoNormal style='margin-bottom:0in;line-height:normal'><b><span\n",
        "  lang=EN-GB style='mso-ascii-font-family:Calibri;mso-fareast-font-family:\"Times New Roman\";\n",
        "  mso-hansi-font-family:Calibri;mso-bidi-font-family:\"Times New Roman\";\n",
        "  color:black;mso-fareast-language:EN-GB'>ID<o:p></o:p></span></b></p>\n",
        "  </td>\n",
        "  <td width=316 style='width:237.25pt;border-top:solid #4BACC6 1.0pt;\n",
        "  border-left:none;border-bottom:solid #4BACC6 1.0pt;border-right:none;\n",
        "  padding:0in 5.4pt 0in 5.4pt;height:13.85pt'>\n",
        "  <p class=MsoNormal style='margin-bottom:0in;line-height:normal'><span\n",
        "  lang=EN-GB style='mso-ascii-font-family:Calibri;mso-fareast-font-family:\"Times New Roman\";\n",
        "  mso-hansi-font-family:Calibri;mso-bidi-font-family:\"Times New Roman\";\n",
        "  color:black;mso-fareast-language:EN-GB'>Baby number<o:p></o:p></span></p>\n",
        "  </td>\n",
        "  <td width=155 style='width:116.1pt;border:solid #4BACC6 1.0pt;border-left:\n",
        "  none;padding:0in 5.4pt 0in 5.4pt;height:13.85pt'>\n",
        "  <p class=MsoNormal style='margin-bottom:0in;line-height:normal'><span\n",
        "  lang=EN-GB style='mso-ascii-font-family:Calibri;mso-fareast-font-family:\"Times New Roman\";\n",
        "  mso-hansi-font-family:Calibri;mso-bidi-font-family:\"Times New Roman\";\n",
        "  color:black;mso-fareast-language:EN-GB'><o:p>&nbsp;</o:p></span></p>\n",
        "  </td>\n",
        " </tr>\n",
        " <tr style='mso-yfti-irow:2;height:13.85pt'>\n",
        "  <td width=129 style='width:96.65pt;border-top:none;border-left:solid #4BACC6 1.0pt;\n",
        "  border-bottom:solid #4BACC6 1.0pt;border-right:none;mso-border-top-alt:solid #4BACC6 1.0pt;\n",
        "  padding:0in 5.4pt 0in 5.4pt;height:13.85pt'>\n",
        "  <p class=MsoNormal style='margin-bottom:0in;line-height:normal'><b><span\n",
        "  lang=EN-GB style='mso-ascii-font-family:Calibri;mso-fareast-font-family:\"Times New Roman\";\n",
        "  mso-hansi-font-family:Calibri;mso-bidi-font-family:\"Times New Roman\";\n",
        "  color:black;mso-fareast-language:EN-GB'>&nbsp;length<o:p></o:p></span></b></p>\n",
        "  </td>\n",
        "  <td width=316 style='width:237.25pt;border:none;border-bottom:solid #4BACC6 1.0pt;\n",
        "  mso-border-top-alt:solid #4BACC6 1.0pt;padding:0in 5.4pt 0in 5.4pt;\n",
        "  height:13.85pt'>\n",
        "  <p class=MsoNormal style='margin-bottom:0in;line-height:normal'><span\n",
        "  lang=EN-GB style='mso-ascii-font-family:Calibri;mso-fareast-font-family:\"Times New Roman\";\n",
        "  mso-hansi-font-family:Calibri;mso-bidi-font-family:\"Times New Roman\";\n",
        "  color:black;mso-fareast-language:EN-GB'>Length of baby (cm)<o:p></o:p></span></p>\n",
        "  </td>\n",
        "  <td width=155 style='width:116.1pt;border-top:none;border-left:none;\n",
        "  border-bottom:solid #4BACC6 1.0pt;border-right:solid #4BACC6 1.0pt;\n",
        "  mso-border-top-alt:solid #4BACC6 1.0pt;padding:0in 5.4pt 0in 5.4pt;\n",
        "  height:13.85pt'>\n",
        "  <p class=MsoNormal style='margin-bottom:0in;line-height:normal'><span\n",
        "  lang=EN-GB style='mso-ascii-font-family:Calibri;mso-fareast-font-family:\"Times New Roman\";\n",
        "  mso-hansi-font-family:Calibri;mso-bidi-font-family:\"Times New Roman\";\n",
        "  color:black;mso-fareast-language:EN-GB'>Scale<o:p></o:p></span></p>\n",
        "  </td>\n",
        " </tr>\n",
        " <tr style='mso-yfti-irow:3;height:13.85pt'>\n",
        "  <td width=129 style='width:96.65pt;border:none;border-left:solid #4BACC6 1.0pt;\n",
        "  padding:0in 5.4pt 0in 5.4pt;height:13.85pt'>\n",
        "  <p class=MsoNormal style='margin-bottom:0in;line-height:normal'><b><span\n",
        "  lang=EN-GB style='mso-ascii-font-family:Calibri;mso-fareast-font-family:\"Times New Roman\";\n",
        "  mso-hansi-font-family:Calibri;mso-bidi-font-family:\"Times New Roman\";\n",
        "  color:black;mso-fareast-language:EN-GB'>&nbsp;Birthweight<o:p></o:p></span></b></p>\n",
        "  </td>\n",
        "  <td width=316 style='width:237.25pt;padding:0in 5.4pt 0in 5.4pt;height:13.85pt'>\n",
        "  <p class=MsoNormal style='margin-bottom:0in;line-height:normal'><span\n",
        "  lang=EN-GB style='mso-ascii-font-family:Calibri;mso-fareast-font-family:\"Times New Roman\";\n",
        "  mso-hansi-font-family:Calibri;mso-bidi-font-family:\"Times New Roman\";\n",
        "  color:black;mso-fareast-language:EN-GB'>Weight of baby (kg)<o:p></o:p></span></p>\n",
        "  </td>\n",
        "  <td width=155 style='width:116.1pt;border:none;border-right:solid #4BACC6 1.0pt;\n",
        "  padding:0in 5.4pt 0in 5.4pt;height:13.85pt'>\n",
        "  <p class=MsoNormal style='margin-bottom:0in;line-height:normal'><span\n",
        "  lang=EN-GB style='mso-ascii-font-family:Calibri;mso-fareast-font-family:\"Times New Roman\";\n",
        "  mso-hansi-font-family:Calibri;mso-bidi-font-family:\"Times New Roman\";\n",
        "  color:black;mso-fareast-language:EN-GB'>Scale<o:p></o:p></span></p>\n",
        "  </td>\n",
        " </tr>\n",
        " <tr style='mso-yfti-irow:4;height:13.85pt'>\n",
        "  <td width=129 style='width:96.65pt;border:solid #4BACC6 1.0pt;border-right:\n",
        "  none;padding:0in 5.4pt 0in 5.4pt;height:13.85pt'>\n",
        "  <p class=MsoNormal style='margin-bottom:0in;line-height:normal'><b><span\n",
        "  lang=EN-GB style='mso-ascii-font-family:Calibri;mso-fareast-font-family:\"Times New Roman\";\n",
        "  mso-hansi-font-family:Calibri;mso-bidi-font-family:\"Times New Roman\";\n",
        "  color:black;mso-fareast-language:EN-GB'>&nbsp;<span class=SpellE>headcirumference</span><o:p></o:p></span></b></p>\n",
        "  </td>\n",
        "  <td width=316 style='width:237.25pt;border-top:solid #4BACC6 1.0pt;\n",
        "  border-left:none;border-bottom:solid #4BACC6 1.0pt;border-right:none;\n",
        "  padding:0in 5.4pt 0in 5.4pt;height:13.85pt'>\n",
        "  <p class=MsoNormal style='margin-bottom:0in;line-height:normal'><span\n",
        "  lang=EN-GB style='mso-ascii-font-family:Calibri;mso-fareast-font-family:\"Times New Roman\";\n",
        "  mso-hansi-font-family:Calibri;mso-bidi-font-family:\"Times New Roman\";\n",
        "  color:black;mso-fareast-language:EN-GB'>Head Circumference<o:p></o:p></span></p>\n",
        "  </td>\n",
        "  <td width=155 style='width:116.1pt;border:solid #4BACC6 1.0pt;border-left:\n",
        "  none;padding:0in 5.4pt 0in 5.4pt;height:13.85pt'>\n",
        "  <p class=MsoNormal style='margin-bottom:0in;line-height:normal'><span\n",
        "  lang=EN-GB style='mso-ascii-font-family:Calibri;mso-fareast-font-family:\"Times New Roman\";\n",
        "  mso-hansi-font-family:Calibri;mso-bidi-font-family:\"Times New Roman\";\n",
        "  color:black;mso-fareast-language:EN-GB'>Scale<o:p></o:p></span></p>\n",
        "  </td>\n",
        " </tr>\n",
        " <tr style='mso-yfti-irow:5;height:13.85pt'>\n",
        "  <td width=129 style='width:96.65pt;border:none;border-left:solid #4BACC6 1.0pt;\n",
        "  padding:0in 5.4pt 0in 5.4pt;height:13.85pt'>\n",
        "  <p class=MsoNormal style='margin-bottom:0in;line-height:normal'><b><span\n",
        "  lang=EN-GB style='mso-ascii-font-family:Calibri;mso-fareast-font-family:\"Times New Roman\";\n",
        "  mso-hansi-font-family:Calibri;mso-bidi-font-family:\"Times New Roman\";\n",
        "  color:black;mso-fareast-language:EN-GB'>&nbsp;Gestation<o:p></o:p></span></b></p>\n",
        "  </td>\n",
        "  <td width=316 style='width:237.25pt;padding:0in 5.4pt 0in 5.4pt;height:13.85pt'>\n",
        "  <p class=MsoNormal style='margin-bottom:0in;line-height:normal'><span\n",
        "  lang=EN-GB style='mso-ascii-font-family:Calibri;mso-fareast-font-family:\"Times New Roman\";\n",
        "  mso-hansi-font-family:Calibri;mso-bidi-font-family:\"Times New Roman\";\n",
        "  color:black;mso-fareast-language:EN-GB'>Gestation (weeks)<o:p></o:p></span></p>\n",
        "  </td>\n",
        "  <td width=155 style='width:116.1pt;border:none;border-right:solid #4BACC6 1.0pt;\n",
        "  padding:0in 5.4pt 0in 5.4pt;height:13.85pt'>\n",
        "  <p class=MsoNormal style='margin-bottom:0in;line-height:normal'><span\n",
        "  lang=EN-GB style='mso-ascii-font-family:Calibri;mso-fareast-font-family:\"Times New Roman\";\n",
        "  mso-hansi-font-family:Calibri;mso-bidi-font-family:\"Times New Roman\";\n",
        "  color:black;mso-fareast-language:EN-GB'>Scale<o:p></o:p></span></p>\n",
        "  </td>\n",
        " </tr>\n",
        " <tr style='mso-yfti-irow:6;height:13.85pt'>\n",
        "  <td width=129 style='width:96.65pt;border:none;border-left:solid #4BACC6 1.0pt;\n",
        "  padding:0in 5.4pt 0in 5.4pt;height:13.85pt'>\n",
        "  <p class=MsoNormal style='margin-bottom:0in;line-height:normal'><b><span\n",
        "  lang=EN-GB style='mso-ascii-font-family:Calibri;mso-fareast-font-family:\"Times New Roman\";\n",
        "  mso-hansi-font-family:Calibri;mso-bidi-font-family:\"Times New Roman\";\n",
        "  color:black;mso-fareast-language:EN-GB'>&nbsp;smoker<o:p></o:p></span></b></p>\n",
        "  </td>\n",
        "  <td width=316 style='width:237.25pt;padding:0in 5.4pt 0in 5.4pt;height:13.85pt'>\n",
        "  <p class=MsoNormal style='margin-bottom:0in;line-height:normal'><span\n",
        "  lang=EN-GB style='mso-ascii-font-family:Calibri;mso-fareast-font-family:\"Times New Roman\";\n",
        "  mso-hansi-font-family:Calibri;mso-bidi-font-family:\"Times New Roman\";\n",
        "  color:black;mso-fareast-language:EN-GB'>Mother smokes 1 = smoker 0 =\n",
        "  non-smoker<o:p></o:p></span></p>\n",
        "  </td>\n",
        "  <td width=155 style='width:116.1pt;border:none;border-right:solid #4BACC6 1.0pt;\n",
        "  padding:0in 5.4pt 0in 5.4pt;height:13.85pt'>\n",
        "  <p class=MsoNormal style='margin-bottom:0in;line-height:normal'><span\n",
        "  lang=EN-GB style='mso-ascii-font-family:Calibri;mso-fareast-font-family:\"Times New Roman\";\n",
        "  mso-hansi-font-family:Calibri;mso-bidi-font-family:\"Times New Roman\";\n",
        "  color:black;mso-fareast-language:EN-GB'>&nbsp;Binary<o:p></o:p></span></p>\n",
        "  </td>\n",
        " </tr>\n",
        " <tr style='mso-yfti-irow:7;height:13.85pt'>\n",
        "  <td width=129 style='width:96.65pt;border:solid #4BACC6 1.0pt;border-right:\n",
        "  none;padding:0in 5.4pt 0in 5.4pt;height:13.85pt'>\n",
        "  <p class=MsoNormal style='margin-bottom:0in;line-height:normal'><b><span\n",
        "  lang=EN-GB style='mso-ascii-font-family:Calibri;mso-fareast-font-family:\"Times New Roman\";\n",
        "  mso-hansi-font-family:Calibri;mso-bidi-font-family:\"Times New Roman\";\n",
        "  color:black;mso-fareast-language:EN-GB'>&nbsp;<span class=SpellE>motherage</span><o:p></o:p></span></b></p>\n",
        "  </td>\n",
        "  <td width=316 style='width:237.25pt;border-top:solid #4BACC6 1.0pt;\n",
        "  border-left:none;border-bottom:solid #4BACC6 1.0pt;border-right:none;\n",
        "  padding:0in 5.4pt 0in 5.4pt;height:13.85pt'>\n",
        "  <p class=MsoNormal style='margin-bottom:0in;line-height:normal'><span\n",
        "  lang=EN-GB style='mso-ascii-font-family:Calibri;mso-fareast-font-family:\"Times New Roman\";\n",
        "  mso-hansi-font-family:Calibri;mso-bidi-font-family:\"Times New Roman\";\n",
        "  color:black;mso-fareast-language:EN-GB'>Maternal age<o:p></o:p></span></p>\n",
        "  </td>\n",
        "  <td width=155 style='width:116.1pt;border:solid #4BACC6 1.0pt;border-left:\n",
        "  none;padding:0in 5.4pt 0in 5.4pt;height:13.85pt'>\n",
        "  <p class=MsoNormal style='margin-bottom:0in;line-height:normal'><span\n",
        "  lang=EN-GB style='mso-ascii-font-family:Calibri;mso-fareast-font-family:\"Times New Roman\";\n",
        "  mso-hansi-font-family:Calibri;mso-bidi-font-family:\"Times New Roman\";\n",
        "  color:black;mso-fareast-language:EN-GB'>Scale<o:p></o:p></span></p>\n",
        "  </td>\n",
        " </tr>\n",
        " <tr style='mso-yfti-irow:8;height:12.35pt'>\n",
        "  <td width=129 style='width:96.65pt;border-top:none;border-left:solid #4BACC6 1.0pt;\n",
        "  border-bottom:solid #4BACC6 1.0pt;border-right:none;mso-border-top-alt:solid #4BACC6 1.0pt;\n",
        "  padding:0in 5.4pt 0in 5.4pt;height:12.35pt'>\n",
        "  <p class=MsoNormal style='margin-bottom:0in;line-height:normal'><b><span\n",
        "  lang=EN-GB style='mso-ascii-font-family:Calibri;mso-fareast-font-family:\"Times New Roman\";\n",
        "  mso-hansi-font-family:Calibri;mso-bidi-font-family:\"Times New Roman\";\n",
        "  color:black;mso-fareast-language:EN-GB'>&nbsp;<span class=SpellE>mnocig</span><o:p></o:p></span></b></p>\n",
        "  </td>\n",
        "  <td width=316 style='width:237.25pt;border:none;border-bottom:solid #4BACC6 1.0pt;\n",
        "  mso-border-top-alt:solid #4BACC6 1.0pt;padding:0in 5.4pt 0in 5.4pt;\n",
        "  height:12.35pt'>\n",
        "  <p class=MsoNormal style='margin-bottom:0in;line-height:normal'><span\n",
        "  lang=EN-GB style='mso-ascii-font-family:Calibri;mso-fareast-font-family:\"Times New Roman\";\n",
        "  mso-hansi-font-family:Calibri;mso-bidi-font-family:\"Times New Roman\";\n",
        "  color:black;mso-fareast-language:EN-GB'>Number of cigarettes smoked per day\n",
        "  by mother<o:p></o:p></span></p>\n",
        "  </td>\n",
        "  <td width=155 style='width:116.1pt;border-top:none;border-left:none;\n",
        "  border-bottom:solid #4BACC6 1.0pt;border-right:solid #4BACC6 1.0pt;\n",
        "  mso-border-top-alt:solid #4BACC6 1.0pt;padding:0in 5.4pt 0in 5.4pt;\n",
        "  height:12.35pt'>\n",
        "  <p class=MsoNormal style='margin-bottom:0in;line-height:normal'><span\n",
        "  lang=EN-GB style='mso-ascii-font-family:Calibri;mso-fareast-font-family:\"Times New Roman\";\n",
        "  mso-hansi-font-family:Calibri;mso-bidi-font-family:\"Times New Roman\";\n",
        "  color:black;mso-fareast-language:EN-GB'>Scale<o:p></o:p></span></p>\n",
        "  </td>\n",
        " </tr>\n",
        " <tr style='mso-yfti-irow:9;height:13.85pt'>\n",
        "  <td width=129 style='width:96.65pt;border:none;border-left:solid #4BACC6 1.0pt;\n",
        "  padding:0in 5.4pt 0in 5.4pt;height:13.85pt'>\n",
        "  <p class=MsoNormal style='margin-bottom:0in;line-height:normal'><b><span\n",
        "  lang=EN-GB style='mso-ascii-font-family:Calibri;mso-fareast-font-family:\"Times New Roman\";\n",
        "  mso-hansi-font-family:Calibri;mso-bidi-font-family:\"Times New Roman\";\n",
        "  color:black;mso-fareast-language:EN-GB'>&nbsp;<span class=SpellE>mheight</span><o:p></o:p></span></b></p>\n",
        "  </td>\n",
        "  <td width=316 style='width:237.25pt;padding:0in 5.4pt 0in 5.4pt;height:13.85pt'>\n",
        "  <p class=MsoNormal style='margin-bottom:0in;line-height:normal'><span\n",
        "  class=GramE><span lang=EN-GB style='mso-ascii-font-family:Calibri;mso-fareast-font-family:\n",
        "  \"Times New Roman\";mso-hansi-font-family:Calibri;mso-bidi-font-family:\"Times New Roman\";\n",
        "  color:black;mso-fareast-language:EN-GB'>Mothers</span></span><span\n",
        "  lang=EN-GB style='mso-ascii-font-family:Calibri;mso-fareast-font-family:\"Times New Roman\";\n",
        "  mso-hansi-font-family:Calibri;mso-bidi-font-family:\"Times New Roman\";\n",
        "  color:black;mso-fareast-language:EN-GB'> height (cm)<o:p></o:p></span></p>\n",
        "  </td>\n",
        "  <td width=155 style='width:116.1pt;border:none;border-right:solid #4BACC6 1.0pt;\n",
        "  padding:0in 5.4pt 0in 5.4pt;height:13.85pt'>\n",
        "  <p class=MsoNormal style='margin-bottom:0in;line-height:normal'><span\n",
        "  lang=EN-GB style='mso-ascii-font-family:Calibri;mso-fareast-font-family:\"Times New Roman\";\n",
        "  mso-hansi-font-family:Calibri;mso-bidi-font-family:\"Times New Roman\";\n",
        "  color:black;mso-fareast-language:EN-GB'>&nbsp;Scale<o:p></o:p></span></p>\n",
        "  </td>\n",
        " </tr>\n",
        " <tr style='mso-yfti-irow:10;height:13.85pt'>\n",
        "  <td width=129 style='width:96.65pt;border:none;border-left:solid #4BACC6 1.0pt;\n",
        "  padding:0in 5.4pt 0in 5.4pt;height:13.85pt'>\n",
        "  <p class=MsoNormal style='margin-bottom:0in;line-height:normal'><b><span\n",
        "  lang=EN-GB style='mso-ascii-font-family:Calibri;mso-fareast-font-family:\"Times New Roman\";\n",
        "  mso-hansi-font-family:Calibri;mso-bidi-font-family:\"Times New Roman\";\n",
        "  color:black;mso-fareast-language:EN-GB'>&nbsp;<span class=SpellE>mppwt</span><o:p></o:p></span></b></p>\n",
        "  </td>\n",
        "  <td width=316 style='width:237.25pt;padding:0in 5.4pt 0in 5.4pt;height:13.85pt'>\n",
        "  <p class=MsoNormal style='margin-bottom:0in;line-height:normal'><span\n",
        "  class=GramE><span lang=EN-GB style='mso-ascii-font-family:Calibri;mso-fareast-font-family:\n",
        "  \"Times New Roman\";mso-hansi-font-family:Calibri;mso-bidi-font-family:\"Times New Roman\";\n",
        "  color:black;mso-fareast-language:EN-GB'>Mothers</span></span><span\n",
        "  lang=EN-GB style='mso-ascii-font-family:Calibri;mso-fareast-font-family:\"Times New Roman\";\n",
        "  mso-hansi-font-family:Calibri;mso-bidi-font-family:\"Times New Roman\";\n",
        "  color:black;mso-fareast-language:EN-GB'> pre-pregnancy weight (kg)<o:p></o:p></span></p>\n",
        "  </td>\n",
        "  <td width=155 style='width:116.1pt;border:none;border-right:solid #4BACC6 1.0pt;\n",
        "  padding:0in 5.4pt 0in 5.4pt;height:13.85pt'>\n",
        "  <p class=MsoNormal style='margin-bottom:0in;line-height:normal'><span\n",
        "  lang=EN-GB style='mso-ascii-font-family:Calibri;mso-fareast-font-family:\"Times New Roman\";\n",
        "  mso-hansi-font-family:Calibri;mso-bidi-font-family:\"Times New Roman\";\n",
        "  color:black;mso-fareast-language:EN-GB'>&nbsp;Scale<o:p></o:p></span></p>\n",
        "  </td>\n",
        " </tr>\n",
        " <tr style='mso-yfti-irow:11;height:13.85pt'>\n",
        "  <td width=129 style='width:96.65pt;border:solid #4BACC6 1.0pt;border-right:\n",
        "  none;padding:0in 5.4pt 0in 5.4pt;height:13.85pt'>\n",
        "  <p class=MsoNormal style='margin-bottom:0in;line-height:normal'><b><span\n",
        "  lang=EN-GB style='mso-ascii-font-family:Calibri;mso-fareast-font-family:\"Times New Roman\";\n",
        "  mso-hansi-font-family:Calibri;mso-bidi-font-family:\"Times New Roman\";\n",
        "  color:black;mso-fareast-language:EN-GB'>&nbsp;<span class=SpellE>fage</span><o:p></o:p></span></b></p>\n",
        "  </td>\n",
        "  <td width=316 style='width:237.25pt;border-top:solid #4BACC6 1.0pt;\n",
        "  border-left:none;border-bottom:solid #4BACC6 1.0pt;border-right:none;\n",
        "  padding:0in 5.4pt 0in 5.4pt;height:13.85pt'>\n",
        "  <p class=MsoNormal style='margin-bottom:0in;line-height:normal'><span\n",
        "  lang=EN-GB style='mso-ascii-font-family:Calibri;mso-fareast-font-family:\"Times New Roman\";\n",
        "  mso-hansi-font-family:Calibri;mso-bidi-font-family:\"Times New Roman\";\n",
        "  color:black;mso-fareast-language:EN-GB'>Father's age<o:p></o:p></span></p>\n",
        "  </td>\n",
        "  <td width=155 style='width:116.1pt;border:solid #4BACC6 1.0pt;border-left:\n",
        "  none;padding:0in 5.4pt 0in 5.4pt;height:13.85pt'>\n",
        "  <p class=MsoNormal style='margin-bottom:0in;line-height:normal'><span\n",
        "  lang=EN-GB style='mso-ascii-font-family:Calibri;mso-fareast-font-family:\"Times New Roman\";\n",
        "  mso-hansi-font-family:Calibri;mso-bidi-font-family:\"Times New Roman\";\n",
        "  color:black;mso-fareast-language:EN-GB'>&nbsp;Scale<o:p></o:p></span></p>\n",
        "  </td>\n",
        " </tr>\n",
        " <tr style='mso-yfti-irow:12;height:13.85pt'>\n",
        "  <td width=129 style='width:96.65pt;border-top:none;border-left:solid #4BACC6 1.0pt;\n",
        "  border-bottom:solid #4BACC6 1.0pt;border-right:none;mso-border-top-alt:solid #4BACC6 1.0pt;\n",
        "  padding:0in 5.4pt 0in 5.4pt;height:13.85pt'>\n",
        "  <p class=MsoNormal style='margin-bottom:0in;line-height:normal'><span\n",
        "  class=SpellE><b><span lang=EN-GB style='mso-ascii-font-family:Calibri;\n",
        "  mso-fareast-font-family:\"Times New Roman\";mso-hansi-font-family:Calibri;\n",
        "  mso-bidi-font-family:\"Times New Roman\";color:black;mso-fareast-language:EN-GB'>fedyrs</span></b></span><b><span\n",
        "  lang=EN-GB style='mso-ascii-font-family:Calibri;mso-fareast-font-family:\"Times New Roman\";\n",
        "  mso-hansi-font-family:Calibri;mso-bidi-font-family:\"Times New Roman\";\n",
        "  color:black;mso-fareast-language:EN-GB'><o:p></o:p></span></b></p>\n",
        "  </td>\n",
        "  <td width=316 style='width:237.25pt;border:none;border-bottom:solid #4BACC6 1.0pt;\n",
        "  mso-border-top-alt:solid #4BACC6 1.0pt;padding:0in 5.4pt 0in 5.4pt;\n",
        "  height:13.85pt'>\n",
        "  <p class=MsoNormal style='margin-bottom:0in;line-height:normal'><span\n",
        "  lang=EN-GB style='mso-ascii-font-family:Calibri;mso-fareast-font-family:\"Times New Roman\";\n",
        "  mso-hansi-font-family:Calibri;mso-bidi-font-family:\"Times New Roman\";\n",
        "  color:black;mso-fareast-language:EN-GB'>Father’s years in education<o:p></o:p></span></p>\n",
        "  </td>\n",
        "  <td width=155 style='width:116.1pt;border-top:none;border-left:none;\n",
        "  border-bottom:solid #4BACC6 1.0pt;border-right:solid #4BACC6 1.0pt;\n",
        "  mso-border-top-alt:solid #4BACC6 1.0pt;padding:0in 5.4pt 0in 5.4pt;\n",
        "  height:13.85pt'>\n",
        "  <p class=MsoNormal style='margin-bottom:0in;line-height:normal'><span\n",
        "  lang=EN-GB style='mso-ascii-font-family:Calibri;mso-fareast-font-family:\"Times New Roman\";\n",
        "  mso-hansi-font-family:Calibri;mso-bidi-font-family:\"Times New Roman\";\n",
        "  color:black;mso-fareast-language:EN-GB'>Scale<o:p></o:p></span></p>\n",
        "  </td>\n",
        " </tr>\n",
        " <tr style='mso-yfti-irow:13;height:13.85pt'>\n",
        "  <td width=129 style='width:96.65pt;border-top:none;border-left:solid #4BACC6 1.0pt;\n",
        "  border-bottom:solid #4BACC6 1.0pt;border-right:none;mso-border-top-alt:solid #4BACC6 1.0pt;\n",
        "  padding:0in 5.4pt 0in 5.4pt;height:13.85pt'>\n",
        "  <p class=MsoNormal style='margin-bottom:0in;line-height:normal'><b><span\n",
        "  lang=EN-GB style='mso-ascii-font-family:Calibri;mso-fareast-font-family:\"Times New Roman\";\n",
        "  mso-hansi-font-family:Calibri;mso-bidi-font-family:\"Times New Roman\";\n",
        "  color:black;mso-fareast-language:EN-GB'>&nbsp;<span class=SpellE>fnocig</span><o:p></o:p></span></b></p>\n",
        "  </td>\n",
        "  <td width=316 style='width:237.25pt;border:none;border-bottom:solid #4BACC6 1.0pt;\n",
        "  mso-border-top-alt:solid #4BACC6 1.0pt;padding:0in 5.4pt 0in 5.4pt;\n",
        "  height:13.85pt'>\n",
        "  <p class=MsoNormal style='margin-bottom:0in;line-height:normal'><span\n",
        "  lang=EN-GB style='mso-ascii-font-family:Calibri;mso-fareast-font-family:\"Times New Roman\";\n",
        "  mso-hansi-font-family:Calibri;mso-bidi-font-family:\"Times New Roman\";\n",
        "  color:black;mso-fareast-language:EN-GB'>Number of cigarettes smoked per day\n",
        "  by father<o:p></o:p></span></p>\n",
        "  </td>\n",
        "  <td width=155 style='width:116.1pt;border-top:none;border-left:none;\n",
        "  border-bottom:solid #4BACC6 1.0pt;border-right:solid #4BACC6 1.0pt;\n",
        "  mso-border-top-alt:solid #4BACC6 1.0pt;padding:0in 5.4pt 0in 5.4pt;\n",
        "  height:13.85pt'>\n",
        "  <p class=MsoNormal style='margin-bottom:0in;line-height:normal'><span\n",
        "  lang=EN-GB style='mso-ascii-font-family:Calibri;mso-fareast-font-family:\"Times New Roman\";\n",
        "  mso-hansi-font-family:Calibri;mso-bidi-font-family:\"Times New Roman\";\n",
        "  color:black;mso-fareast-language:EN-GB'>Scale<o:p></o:p></span></p>\n",
        "  </td>\n",
        " </tr>\n",
        " <tr style='mso-yfti-irow:14;height:13.85pt'>\n",
        "  <td width=129 style='width:96.65pt;border-top:none;border-left:solid #4BACC6 1.0pt;\n",
        "  border-bottom:solid #4BACC6 1.0pt;border-right:none;mso-border-top-alt:solid #4BACC6 1.0pt;\n",
        "  padding:0in 5.4pt 0in 5.4pt;height:13.85pt'>\n",
        "  <p class=MsoNormal style='margin-bottom:0in;line-height:normal'><b><span\n",
        "  lang=EN-GB style='mso-ascii-font-family:Calibri;mso-fareast-font-family:\"Times New Roman\";\n",
        "  mso-hansi-font-family:Calibri;mso-bidi-font-family:\"Times New Roman\";\n",
        "  color:black;mso-fareast-language:EN-GB'>&nbsp;<span class=SpellE>fheight</span><o:p></o:p></span></b></p>\n",
        "  </td>\n",
        "  <td width=316 style='width:237.25pt;border:none;border-bottom:solid #4BACC6 1.0pt;\n",
        "  mso-border-top-alt:solid #4BACC6 1.0pt;padding:0in 5.4pt 0in 5.4pt;\n",
        "  height:13.85pt'>\n",
        "  <p class=MsoNormal style='margin-bottom:0in;line-height:normal'><span\n",
        "  lang=EN-GB style='mso-ascii-font-family:Calibri;mso-fareast-font-family:\"Times New Roman\";\n",
        "  mso-hansi-font-family:Calibri;mso-bidi-font-family:\"Times New Roman\";\n",
        "  color:black;mso-fareast-language:EN-GB'>Father's height (kg)<o:p></o:p></span></p>\n",
        "  </td>\n",
        "  <td width=155 style='width:116.1pt;border-top:none;border-left:none;\n",
        "  border-bottom:solid #4BACC6 1.0pt;border-right:solid #4BACC6 1.0pt;\n",
        "  mso-border-top-alt:solid #4BACC6 1.0pt;padding:0in 5.4pt 0in 5.4pt;\n",
        "  height:13.85pt'>\n",
        "  <p class=MsoNormal style='margin-bottom:0in;line-height:normal'><span\n",
        "  lang=EN-GB style='mso-ascii-font-family:Calibri;mso-fareast-font-family:\"Times New Roman\";\n",
        "  mso-hansi-font-family:Calibri;mso-bidi-font-family:\"Times New Roman\";\n",
        "  color:black;mso-fareast-language:EN-GB'>&nbsp;Scale<o:p></o:p></span></p>\n",
        "  </td>\n",
        " </tr>\n",
        " <tr style='mso-yfti-irow:15;height:13.85pt'>\n",
        "  <td width=129 style='width:96.65pt;border-top:none;border-left:solid #4BACC6 1.0pt;\n",
        "  border-bottom:solid #4BACC6 1.0pt;border-right:none;mso-border-top-alt:solid #4BACC6 1.0pt;\n",
        "  padding:0in 5.4pt 0in 5.4pt;height:13.85pt'>\n",
        "  <p class=MsoNormal style='margin-bottom:0in;line-height:normal'><b><span\n",
        "  lang=EN-GB style='mso-ascii-font-family:Calibri;mso-fareast-font-family:\"Times New Roman\";\n",
        "  mso-hansi-font-family:Calibri;mso-bidi-font-family:\"Times New Roman\";\n",
        "  color:black;mso-fareast-language:EN-GB'>&nbsp;<span class=SpellE>lowbwt</span><o:p></o:p></span></b></p>\n",
        "  </td>\n",
        "  <td width=316 style='width:237.25pt;border:none;border-bottom:solid #4BACC6 1.0pt;\n",
        "  mso-border-top-alt:solid #4BACC6 1.0pt;padding:0in 5.4pt 0in 5.4pt;\n",
        "  height:13.85pt'>\n",
        "  <p class=MsoNormal style='margin-bottom:0in;line-height:normal'><span\n",
        "  lang=EN-GB style='mso-ascii-font-family:Calibri;mso-fareast-font-family:\"Times New Roman\";\n",
        "  mso-hansi-font-family:Calibri;mso-bidi-font-family:\"Times New Roman\";\n",
        "  color:black;mso-fareast-language:EN-GB'>Low birth weight, 0 = No and 1 = yes<o:p></o:p></span></p>\n",
        "  </td>\n",
        "  <td width=155 style='width:116.1pt;border-top:none;border-left:none;\n",
        "  border-bottom:solid #4BACC6 1.0pt;border-right:solid #4BACC6 1.0pt;\n",
        "  mso-border-top-alt:solid #4BACC6 1.0pt;padding:0in 5.4pt 0in 5.4pt;\n",
        "  height:13.85pt'>\n",
        "  <p class=MsoNormal style='margin-bottom:0in;line-height:normal'><span\n",
        "  lang=EN-GB style='mso-ascii-font-family:Calibri;mso-fareast-font-family:\"Times New Roman\";\n",
        "  mso-hansi-font-family:Calibri;mso-bidi-font-family:\"Times New Roman\";\n",
        "  color:black;mso-fareast-language:EN-GB'>&nbsp;Binary<o:p></o:p></span></p>\n",
        "  </td>\n",
        " </tr>\n",
        " <tr style='mso-yfti-irow:16;mso-yfti-lastrow:yes;height:13.85pt'>\n",
        "  <td width=129 style='width:96.65pt;border-top:none;border-left:solid #4BACC6 1.0pt;\n",
        "  border-bottom:solid #4BACC6 1.0pt;border-right:none;mso-border-top-alt:solid #4BACC6 1.0pt;\n",
        "  padding:0in 5.4pt 0in 5.4pt;height:13.85pt'>\n",
        "  <p class=MsoNormal style='margin-bottom:0in;line-height:normal'><b><span\n",
        "  lang=EN-GB style='mso-ascii-font-family:Calibri;mso-fareast-font-family:\"Times New Roman\";\n",
        "  mso-hansi-font-family:Calibri;mso-bidi-font-family:\"Times New Roman\";\n",
        "  color:black;mso-fareast-language:EN-GB'>mage35<o:p></o:p></span></b></p>\n",
        "  </td>\n",
        "  <td width=316 style='width:237.25pt;border:none;border-bottom:solid #4BACC6 1.0pt;\n",
        "  mso-border-top-alt:solid #4BACC6 1.0pt;padding:0in 5.4pt 0in 5.4pt;\n",
        "  height:13.85pt'>\n",
        "  <p class=MsoNormal style='margin-bottom:0in;line-height:normal'><span\n",
        "  lang=EN-GB style='mso-ascii-font-family:Calibri;mso-fareast-font-family:\"Times New Roman\";\n",
        "  mso-hansi-font-family:Calibri;mso-bidi-font-family:\"Times New Roman\";\n",
        "  color:black;mso-fareast-language:EN-GB'>Mother over 35, 0 = No and 1 = yes<o:p></o:p></span></p>\n",
        "  </td>\n",
        "  <td width=155 style='width:116.1pt;border-top:none;border-left:none;\n",
        "  border-bottom:solid #4BACC6 1.0pt;border-right:solid #4BACC6 1.0pt;\n",
        "  mso-border-top-alt:solid #4BACC6 1.0pt;padding:0in 5.4pt 0in 5.4pt;\n",
        "  height:13.85pt'>\n",
        "  <p class=MsoNormal style='margin-bottom:0in;line-height:normal'><span\n",
        "  lang=EN-GB style='mso-ascii-font-family:Calibri;mso-fareast-font-family:\"Times New Roman\";\n",
        "  mso-hansi-font-family:Calibri;mso-bidi-font-family:\"Times New Roman\";\n",
        "  color:black;mso-fareast-language:EN-GB'>Binary<o:p></o:p></span></p>\n",
        "  </td>\n",
        " </tr>\n",
        "</table>\n"
      ]
    },
    {
      "cell_type": "markdown",
      "metadata": {
        "id": "y3nQ0AfeiJHD"
      },
      "source": [
        "**Your turn to explore!** Uncomment and try more Pandas methods we can apply to our dataframe:"
      ]
    },
    {
      "cell_type": "code",
      "metadata": {
        "id": "RNdCCqloiJHE"
      },
      "source": [
        "# TRY THESE!\n",
        "# Method to see the tail end of the data\n",
        "# data.tail()\n",
        "\n",
        "# Use the DataFrame.info() method to find out more about a dataframe.\n",
        "# data.info()\n",
        "\n",
        "# Get Dimensions (rows, columns)\n",
        "# data.shape\n",
        "\n",
        "# Get data types\n",
        "# data.dtypes\n",
        "\n",
        "# The DataFrame.columns variable stores information about the dataframe’s columns.\n",
        "# data.columns"
      ],
      "execution_count": null,
      "outputs": []
    },
    {
      "cell_type": "code",
      "metadata": {
        "id": "M3Bvnz-1iJHF"
      },
      "source": [
        "# Use DataFrame.describe() to get summary statistics about data.\n",
        "# data.describe()"
      ],
      "execution_count": null,
      "outputs": []
    },
    {
      "cell_type": "markdown",
      "metadata": {
        "id": "9xMcUBGgchMV"
      },
      "source": [
        "<div class=\"alert alert-block alert-info\">\n",
        "    <ul><li>Use the Pandas library to get basic statistics out of tabular data.</li>\n",
        "\n",
        "<li>Use `index_col` to specify that a column’s values should be used as row headings.</li>\n",
        "\n",
        "<li>Use `DataFrame.info` to find out more about a dataframe.</li>\n",
        "\n",
        "<li>The `DataFrame.columns` variable stores information about the dataframe’s columns.</li>\n",
        "\n",
        "<li>Use `DataFrame.T` to transpose a dataframe.</li>\n",
        "\n",
        "<li>Use `DataFrame.describe` to get summary statistics about data.</li></ul>\n",
        "</div>"
      ]
    },
    {
      "cell_type": "markdown",
      "metadata": {
        "id": "65yzm4ytiJHF"
      },
      "source": [
        "<a name=\"anchor2b\"></a>\n",
        "## A note about $p$-values"
      ]
    },
    {
      "cell_type": "markdown",
      "metadata": {
        "id": "uqAZq7uMiJHF"
      },
      "source": [
        "When we are doing statistical testing, we form a null hypothesis that states that there is no relationship, either between the two variables being studied (one variable does not affect the other), or between a variable and some constant number like a population mean. \n",
        "\n",
        "The $p$-value, or probability value, returned with your statistical test is a number describing how likely it is that your data would have occurred by random chance (i.e. that the null hypothesis is true).  It is a number between 0 and 1.  The smaller the p-value, the stronger the evidence that you should reject the null hypothesis.  A common threshold of significance is $p < 0.05$. \n",
        "\n",
        "<img src=\"https://github.com/DeisData/datasets/blob/main/p-value.png?raw=true\" alt=\"drawing\" style=\"width:450px;\"/>\n",
        "\n",
        "*Image from [What a p-value tells you about statistical significance](https://www.simplypsychology.org/p-value.html)*\n",
        "\n",
        "There is a lot of conversation around use and [mis-use of $p$-values](https://en.wikipedia.org/wiki/Misuse_of_p-values) in scientific analysis.  Here are a few articles you may find interesting:\n",
        "- [\"After p values: The new statistics for undergraduate neuroscience education\"](https://www.ncbi.nlm.nih.gov/pmc/articles/PMC5777847/)\n",
        "- [\"Estimation for better inference in neuroscience\"](https://www.ncbi.nlm.nih.gov/pmc/articles/PMC6709209/) \n"
      ]
    },
    {
      "cell_type": "markdown",
      "metadata": {
        "id": "8mzzyS6AiJHG"
      },
      "source": [
        "<a name=\"anchor3\"></a>\n",
        "## 3 Pearson and Spearman correlation\n",
        "\n",
        "### 3.1 Theory: As linear models \n",
        "\n",
        "**Model:** the recipe for $y$ is a slope ($\\beta_1$) times $x$ plus an y-intercept ($\\beta_0$, aka a straight line).\n",
        "\n",
        "$y = \\beta_0 + \\beta_1 x \\qquad \\mathcal{H}_0: \\beta_1 = 0$\n",
        "\n",
        "... which is a mathy way of writing the good old $y = ax + b$ (here ordered as $y = b + ax$). The task of linear models is simply to find the numbers that best predict `y`.\n",
        "\n",
        "Either way you write it, it's an intercept ($\\beta_0$) and a slope ($\\beta_1$) yielding a straight line."
      ]
    },
    {
      "cell_type": "markdown",
      "metadata": {
        "id": "pL34VprbiJHG"
      },
      "source": [
        "**With our data**\n",
        "we can use the seaborn regression plot tool `sns.regplot`to quickly visualize a linear model fit between mother's height `mheight` and baby length `Length` when asking the question \"Can moether's height predict baby length?\""
      ]
    },
    {
      "cell_type": "code",
      "metadata": {
        "id": "Q_wu2XyfiJHG",
        "outputId": "396f65d6-bacf-4ea9-9c8d-35f23f9aa75a"
      },
      "source": [
        "sns.regplot(x='mheight',y='Length',data=data)"
      ],
      "execution_count": null,
      "outputs": [
        {
          "data": {
            "text/plain": [
              "<AxesSubplot:xlabel='mheight', ylabel='Length'>"
            ]
          },
          "execution_count": 193,
          "metadata": {},
          "output_type": "execute_result"
        },
        {
          "data": {
            "image/png": "[encoded data removed]",
            "text/plain": [
              "<Figure size 432x288 with 1 Axes>"
            ]
          },
          "metadata": {
            "needs_background": "light"
          },
          "output_type": "display_data"
        }
      ]
    },
    {
      "cell_type": "markdown",
      "metadata": {
        "id": "-gwo-CPhiJHH"
      },
      "source": [
        "**Practice for you**. Use the seaborn regression tool to visualize a simple linear regression to consider the question: \"Can gestational age (`Gestation`) predict baby weight (`Birthweight`)?\""
      ]
    },
    {
      "cell_type": "code",
      "metadata": {
        "id": "E-ktOtSIiJHH"
      },
      "source": [
        "# Your code goes here!:\n",
        "#sns.regplot()\n"
      ],
      "execution_count": null,
      "outputs": []
    },
    {
      "cell_type": "markdown",
      "metadata": {
        "id": "uuyi5n71iJHH"
      },
      "source": [
        "This is often simply called a *regression* model which can be extended to *multiple regression* where there are several $\\beta$s and on the right-hand side multiplied with the predictors. \n",
        "\n",
        "Everything below, from [one-sample t-test](#4.1-One-sample-t-test-and-Wilcoxon-signed-rank) to [two-way ANOVA](#6.2-Two-way-ANOVA) are just special cases of this system. Nothing more, nothing less."
      ]
    },
    {
      "cell_type": "markdown",
      "metadata": {
        "id": "dnn2z1ChiJHH"
      },
      "source": [
        "### 3.2 Pearson correlation\n",
        "We use [`scipy.stats.pearsonr`](https://docs.scipy.org/doc/scipy-0.14.0/reference/generated/scipy.stats.pearsonr.html) to calculate a pearson correlation coefficient and the p-value for testing non-correlation between two variables. Correlations of $-1$ or $+1$ imply an exact linear relationships, and 0 implies no correlation. "
      ]
    },
    {
      "cell_type": "code",
      "metadata": {
        "id": "ZNjW3XfmiJHH",
        "outputId": "f963cf11-159d-4886-f5ba-42f62a8e1701"
      },
      "source": [
        "# pearsonr returns the pearson's correlation coefficient and \n",
        "# the 2-tailed p-value\n",
        "stats.pearsonr(data.mheight, data.Length)"
      ],
      "execution_count": null,
      "outputs": [
        {
          "data": {
            "application/javascript": [
              "\n",
              "        if (window._pyforest_update_imports_cell) { window._pyforest_update_imports_cell('from scipy import stats'); }\n",
              "    "
            ],
            "text/plain": [
              "<IPython.core.display.Javascript object>"
            ]
          },
          "metadata": {},
          "output_type": "display_data"
        },
        {
          "data": {
            "text/plain": [
              "(0.4849924026326507, 0.0011331311458135573)"
            ]
          },
          "execution_count": 195,
          "metadata": {},
          "output_type": "execute_result"
        }
      ]
    },
    {
      "cell_type": "markdown",
      "metadata": {
        "id": "COg9OPIziJHI"
      },
      "source": [
        "The p-value roughly indicates the probability of an uncorrelated system producing datasets that have a Pearson correlation at least as extreme as the one computed from these datasets.\n",
        "\n",
        "**Practice for you**. Calculate the Pearson's R for the question: \"Can gestational age (`Gestation`) predict baby weight (`Birthweight`)?\""
      ]
    },
    {
      "cell_type": "code",
      "metadata": {
        "id": "uc3DLwl7iJHI"
      },
      "source": [
        "# Your code goes here!:\n"
      ],
      "execution_count": null,
      "outputs": []
    },
    {
      "cell_type": "markdown",
      "metadata": {
        "id": "a3AmczJmiJHI"
      },
      "source": [
        "### 3.3 Spearman rank correlation"
      ]
    },
    {
      "cell_type": "markdown",
      "metadata": {
        "id": "3h8RSt2oiJHI"
      },
      "source": [
        "As the name implies, the *Spearman rank correlation* is a *Pearson correlation* on rank-transformed $x$ and $y$:\n",
        "\n",
        "$\\text{rank}(y) = \\beta_0 + \\beta_1 \\cdot \\text{rank}(x) \\qquad \\mathcal{H}_0: \\beta_1 = 0$\n",
        "\n",
        "I'll introduce [ranks](#3.4-Theory:-Rank-transformation) in a minute. For now, notice that the correlation coefficient of the linear model is identical to a \"real\" Pearson correlation, but p-values are an approximation which is is [appropriate for samples greater than N = 10 and almost perfect when N > 20](https://lindeloev.github.io/tests-as-linear/simulations/simulate_spearman.html).\n",
        "\n",
        "Such a nice and non-mysterious equivalence!\n",
        "\n",
        "The Spearman rank-order correlation coefficient is a *nonparametric measure* of the relationship between two variables. Unlike the Pearson correlation, the Spearman correlation does not assume that both datasets are normally distributed. "
      ]
    },
    {
      "cell_type": "markdown",
      "metadata": {
        "id": "jUa-DZ-hiJHJ"
      },
      "source": [
        "We will use [`scipy.stats.spearmanr`](https://docs.scipy.org/doc/scipy/reference/generated/scipy.stats.spearmanr.html) to calculate the Spearman correlation coefficient with associated p-value."
      ]
    },
    {
      "cell_type": "code",
      "metadata": {
        "id": "8zFVX3cciJHJ",
        "outputId": "439d9972-e141-4cf0-a2f2-b9636e406256"
      },
      "source": [
        "# spearmanr returns the rank correlation coefficient and \n",
        "# the 2-tailed p-value\n",
        "stats.spearmanr(data.mheight, data.Length)"
      ],
      "execution_count": null,
      "outputs": [
        {
          "data": {
            "application/javascript": [
              "\n",
              "        if (window._pyforest_update_imports_cell) { window._pyforest_update_imports_cell('from scipy import stats'); }\n",
              "    "
            ],
            "text/plain": [
              "<IPython.core.display.Javascript object>"
            ]
          },
          "metadata": {},
          "output_type": "display_data"
        },
        {
          "data": {
            "text/plain": [
              "SpearmanrResult(correlation=0.4553274463786581, pvalue=0.002446213023703486)"
            ]
          },
          "execution_count": 197,
          "metadata": {},
          "output_type": "execute_result"
        }
      ]
    },
    {
      "cell_type": "markdown",
      "metadata": {
        "id": "iAJC9OmpiJHJ"
      },
      "source": [
        "**Practice for you**. Calculate the Spearman's R for the question: \"Can gestational age (`Gestation`) predict baby weight (`Birthweight`)?\""
      ]
    },
    {
      "cell_type": "code",
      "metadata": {
        "id": "cAbe0Z8riJHJ"
      },
      "source": [
        "# Your code goes here!:\n"
      ],
      "execution_count": null,
      "outputs": []
    },
    {
      "cell_type": "markdown",
      "metadata": {
        "id": "0zu7FIC_iJHJ"
      },
      "source": [
        "### 3.4 Theory: Rank-transformation\n",
        "`scipy.stats.rankdata` simply takes an array of numbers and \"replaces\" them with the integers of their rank (1st smallest, 2nd smallest, 3rd smallest, etc.). `pd.DataFrame.rank` performs a similar function, but with support for `pandas.DataFrames`. So the result of the rank-transformation `scipy.stats.rankdata([3.6, 3.4, -5.0, 8.2])` is `[3, 2, 1, 4]`. See that in the figure above?\n",
        "\n",
        "A _signed_ rank is the same, just where we rank according to absolute size first and then add in the sign second. So the signed rank here would be `[2, 1, -3, 4]`. Or in code:"
      ]
    },
    {
      "cell_type": "code",
      "metadata": {
        "id": "R0nXu8ziiJHK"
      },
      "source": [
        "def signed_rank(df):\n",
        "    return np.sign(df) * df.abs().rank()"
      ],
      "execution_count": null,
      "outputs": []
    },
    {
      "cell_type": "markdown",
      "metadata": {
        "id": "bxTLVV_OiJHK"
      },
      "source": [
        "Ranks are all you need to do to convert most parametric tests into their \"non-parametric\" counterparts! "
      ]
    },
    {
      "cell_type": "markdown",
      "metadata": {
        "id": "7D5qLFEu6DFF"
      },
      "source": [
        "#### Quick Aside:  Can we look at all the quantitative data at once?\n",
        "`sns.pairplot()` from seaborn combines joint and marginal views — but rather than focusing on a single relationship, it visualizes every pairwise combination of variables simultaneously:"
      ]
    },
    {
      "cell_type": "code",
      "metadata": {
        "id": "I9elJgoZ6DFG",
        "scrolled": true
      },
      "source": [
        "# Uncomment and run to see a matrix of all relationships, color-coded by smoker / non-smoker\n",
        "# sns.pairplot(data=data, hue=\"smoker\")"
      ],
      "execution_count": null,
      "outputs": []
    },
    {
      "cell_type": "markdown",
      "metadata": {
        "id": "GsgaT33miJHK"
      },
      "source": [
        "\n",
        "***\n",
        "\n",
        "<a name=\"anchor4\"></a>\n",
        "## 4 One mean comparisons\n",
        "\n",
        "### 4.1 One sample t-test and Wilcoxon signed-rank\n",
        "\n",
        "The T-test and Wilcoxon signed-rank test calculate probability for the mean of ONE group of scores.  This is a test for the null hypothesis that the expected value (mean) of a sample of independent observations a is equal to the given population mean, popmean.\n",
        "\n",
        "\n",
        "#### 4.1.1 Theory: As linear models\n",
        "\n",
        "**t-test** model: A single number predicts $y$.\n",
        "\n",
        "$y = \\beta_0 \\qquad \\mathcal{H}_0: \\beta_0 = 0$\n",
        "\n",
        "In other words, it's our good old $y = \\beta_0 + \\beta_1*x$ where the last term is gone since there is no $x$ (essentially $x=0$).\n",
        "\n",
        "The same is to a very close approximately true for **Wilcoxon signed-rank test**, just with the [signed ranks](#3.0.2-Theory:-rank-transformation) of $y$ instead of $y$ itself.\n",
        "\n",
        "$\\text{signed_rank}(y) = \\beta_0$\n",
        "\n",
        "[This approximation is good enough when the sample size is larger than 14 and almost perfect if the sample size is larger than 50](https://lindeloev.github.io/tests-as-linear/simulations/simulate_wilcoxon.html)."
      ]
    },
    {
      "cell_type": "markdown",
      "metadata": {
        "id": "XQICc_n-iJHL"
      },
      "source": [
        "We will use [`scipy.stats.ttest_1samp`](https://docs.scipy.org/doc/scipy/reference/generated/scipy.stats.ttest_1samp.html) for the parametric comparison test, and [`scipy.stats.wilcoxon`](https://docs.scipy.org/doc/scipy/reference/generated/scipy.stats.wilcoxon.html) for the non-parametric comparison test."
      ]
    },
    {
      "cell_type": "markdown",
      "metadata": {
        "id": "GqPm4KIiiJHL"
      },
      "source": [
        "#### 4.1.2 Python code: One-sample t-test\n",
        "\n",
        "Try running the Python code below and see that the linear model (`smf.ols`) produces the same $t$, $p$, and $r$ as `scipy.stats.ttest_1samp`. \n",
        "\n",
        "First, we extract the subsets of data for smokers and non-smokers."
      ]
    },
    {
      "cell_type": "code",
      "metadata": {
        "id": "xkO3BuMTiJHL"
      },
      "source": [
        "# Average of non-smoker mother birthweights\n",
        "data_nonsmokers = data[data.smoker==0]\n",
        "data_smokers = data[data.smoker==1]"
      ],
      "execution_count": null,
      "outputs": []
    },
    {
      "cell_type": "markdown",
      "metadata": {
        "id": "Bp4Q7h9yiJHL"
      },
      "source": [
        "Next, we will calculate the average birthweight for each group."
      ]
    },
    {
      "cell_type": "code",
      "metadata": {
        "id": "cdA_tFuBiJHL",
        "outputId": "4cb5ba14-291f-45ec-81d8-b82deba1d49a"
      },
      "source": [
        "avg_birthwgt_nonsmoker = statistics.mean(data_nonsmokers.Birthweight)\n",
        "avg_birthwgt_smoker = statistics.mean(data_smokers.Birthweight)\n",
        "\n",
        "print(avg_birthwgt_nonsmoker, avg_birthwgt_smoker)"
      ],
      "execution_count": null,
      "outputs": [
        {
          "name": "stdout",
          "output_type": "stream",
          "text": [
            "3.5095 3.1340909090909093\n"
          ]
        }
      ]
    },
    {
      "cell_type": "markdown",
      "metadata": {
        "id": "TNrsozSFiJHL"
      },
      "source": [
        "Let's compare the data for smoker's to the average birthweight from a non-smoking mother."
      ]
    },
    {
      "cell_type": "code",
      "metadata": {
        "id": "CmjtD9vFiJHM",
        "outputId": "f9eda4c1-0df6-4163-8b38-b375fbce4b37"
      },
      "source": [
        "t, p = stats.ttest_1samp(data_smokers.Birthweight, avg_birthwgt_nonsmoker)\n",
        "print(t,p)"
      ],
      "execution_count": null,
      "outputs": [
        {
          "data": {
            "application/javascript": [
              "\n",
              "        if (window._pyforest_update_imports_cell) { window._pyforest_update_imports_cell('from scipy import stats'); }\n",
              "    "
            ],
            "text/plain": [
              "<IPython.core.display.Javascript object>"
            ]
          },
          "metadata": {},
          "output_type": "display_data"
        },
        {
          "name": "stdout",
          "output_type": "stream",
          "text": [
            "-2.7894379594885215 0.010986630284506064\n"
          ]
        }
      ]
    },
    {
      "cell_type": "markdown",
      "metadata": {
        "id": "6yd64v0biJHM"
      },
      "source": [
        "and the equivalent linear model with an intercept-only is fit with `smf.ols`, the tool for ordinary least squares linear regression.  If we want to make an equivalent comparison, we will shift the birthweight data by the average birthweight for non-smokers, and then see what the linear model looks like!"
      ]
    },
    {
      "cell_type": "code",
      "metadata": {
        "id": "qf4E1ik_iJHM",
        "outputId": "5d65f987-ee0d-4794-dc72-907d7c16901b"
      },
      "source": [
        "# We will shift the birthweight data by the average for non-smoker\n",
        "# and store the result in a new column, Birthweight_adj\n",
        "data[\"Birthweight_adj\"] = data[\"Birthweight\"]-avg_birthwgt_nonsmoker\n",
        "data_smokers.head()"
      ],
      "execution_count": null,
      "outputs": [
        {
          "data": {
            "text/html": [
              "<div>\n",
              "<style scoped>\n",
              "    .dataframe tbody tr th:only-of-type {\n",
              "        vertical-align: middle;\n",
              "    }\n",
              "\n",
              "    .dataframe tbody tr th {\n",
              "        vertical-align: top;\n",
              "    }\n",
              "\n",
              "    .dataframe thead th {\n",
              "        text-align: right;\n",
              "    }\n",
              "</style>\n",
              "<table border=\"1\" class=\"dataframe\">\n",
              "  <thead>\n",
              "    <tr style=\"text-align: right;\">\n",
              "      <th></th>\n",
              "      <th>ID</th>\n",
              "      <th>Length</th>\n",
              "      <th>Birthweight</th>\n",
              "      <th>Headcirc</th>\n",
              "      <th>Gestation</th>\n",
              "      <th>smoker</th>\n",
              "      <th>mage</th>\n",
              "      <th>mnocig</th>\n",
              "      <th>mheight</th>\n",
              "      <th>mppwt</th>\n",
              "      <th>fage</th>\n",
              "      <th>fedyrs</th>\n",
              "      <th>fnocig</th>\n",
              "      <th>fheight</th>\n",
              "      <th>lowbwt</th>\n",
              "      <th>mage35</th>\n",
              "    </tr>\n",
              "  </thead>\n",
              "  <tbody>\n",
              "    <tr>\n",
              "      <th>20</th>\n",
              "      <td>792</td>\n",
              "      <td>53</td>\n",
              "      <td>3.64</td>\n",
              "      <td>38</td>\n",
              "      <td>40</td>\n",
              "      <td>1</td>\n",
              "      <td>20</td>\n",
              "      <td>2</td>\n",
              "      <td>170</td>\n",
              "      <td>59</td>\n",
              "      <td>24</td>\n",
              "      <td>12</td>\n",
              "      <td>12</td>\n",
              "      <td>185</td>\n",
              "      <td>0</td>\n",
              "      <td>0</td>\n",
              "    </tr>\n",
              "    <tr>\n",
              "      <th>21</th>\n",
              "      <td>1388</td>\n",
              "      <td>51</td>\n",
              "      <td>3.14</td>\n",
              "      <td>33</td>\n",
              "      <td>41</td>\n",
              "      <td>1</td>\n",
              "      <td>22</td>\n",
              "      <td>7</td>\n",
              "      <td>160</td>\n",
              "      <td>53</td>\n",
              "      <td>24</td>\n",
              "      <td>16</td>\n",
              "      <td>12</td>\n",
              "      <td>176</td>\n",
              "      <td>0</td>\n",
              "      <td>0</td>\n",
              "    </tr>\n",
              "    <tr>\n",
              "      <th>22</th>\n",
              "      <td>575</td>\n",
              "      <td>50</td>\n",
              "      <td>2.78</td>\n",
              "      <td>30</td>\n",
              "      <td>37</td>\n",
              "      <td>1</td>\n",
              "      <td>19</td>\n",
              "      <td>7</td>\n",
              "      <td>165</td>\n",
              "      <td>60</td>\n",
              "      <td>20</td>\n",
              "      <td>14</td>\n",
              "      <td>0</td>\n",
              "      <td>183</td>\n",
              "      <td>0</td>\n",
              "      <td>0</td>\n",
              "    </tr>\n",
              "    <tr>\n",
              "      <th>23</th>\n",
              "      <td>569</td>\n",
              "      <td>50</td>\n",
              "      <td>2.51</td>\n",
              "      <td>35</td>\n",
              "      <td>39</td>\n",
              "      <td>1</td>\n",
              "      <td>22</td>\n",
              "      <td>7</td>\n",
              "      <td>159</td>\n",
              "      <td>52</td>\n",
              "      <td>23</td>\n",
              "      <td>14</td>\n",
              "      <td>25</td>\n",
              "      <td>200</td>\n",
              "      <td>1</td>\n",
              "      <td>0</td>\n",
              "    </tr>\n",
              "    <tr>\n",
              "      <th>24</th>\n",
              "      <td>1363</td>\n",
              "      <td>48</td>\n",
              "      <td>2.37</td>\n",
              "      <td>30</td>\n",
              "      <td>37</td>\n",
              "      <td>1</td>\n",
              "      <td>20</td>\n",
              "      <td>7</td>\n",
              "      <td>163</td>\n",
              "      <td>47</td>\n",
              "      <td>20</td>\n",
              "      <td>10</td>\n",
              "      <td>35</td>\n",
              "      <td>185</td>\n",
              "      <td>1</td>\n",
              "      <td>0</td>\n",
              "    </tr>\n",
              "  </tbody>\n",
              "</table>\n",
              "</div>"
            ],
            "text/plain": [
              "      ID  Length  Birthweight  Headcirc  Gestation  smoker  mage  mnocig  \\\n",
              "20   792      53         3.64        38         40       1    20       2   \n",
              "21  1388      51         3.14        33         41       1    22       7   \n",
              "22   575      50         2.78        30         37       1    19       7   \n",
              "23   569      50         2.51        35         39       1    22       7   \n",
              "24  1363      48         2.37        30         37       1    20       7   \n",
              "\n",
              "    mheight  mppwt  fage  fedyrs  fnocig  fheight  lowbwt  mage35  \n",
              "20      170     59    24      12      12      185       0       0  \n",
              "21      160     53    24      16      12      176       0       0  \n",
              "22      165     60    20      14       0      183       0       0  \n",
              "23      159     52    23      14      25      200       1       0  \n",
              "24      163     47    20      10      35      185       1       0  "
            ]
          },
          "execution_count": 204,
          "metadata": {},
          "output_type": "execute_result"
        }
      ]
    },
    {
      "cell_type": "code",
      "metadata": {
        "id": "xafESP5UiJHM",
        "outputId": "3d51ab2e-11f6-49c7-8e11-a1cb55e24b50"
      },
      "source": [
        "# Equivalent linear model: intercept-only\n",
        "res = smf.ols(formula=\"Birthweight_adj ~ 1\", data=data[data.smoker==1]).fit() \n",
        "print(res.summary())"
      ],
      "execution_count": null,
      "outputs": [
        {
          "name": "stdout",
          "output_type": "stream",
          "text": [
            "                            OLS Regression Results                            \n",
            "==============================================================================\n",
            "Dep. Variable:        Birthweight_adj   R-squared:                      -0.000\n",
            "Model:                            OLS   Adj. R-squared:                 -0.000\n",
            "Method:                 Least Squares   F-statistic:                       nan\n",
            "Date:                Thu, 26 Aug 2021   Prob (F-statistic):                nan\n",
            "Time:                        13:25:46   Log-Likelihood:                -20.584\n",
            "No. Observations:                  22   AIC:                             43.17\n",
            "Df Residuals:                      21   BIC:                             44.26\n",
            "Df Model:                           0                                         \n",
            "Covariance Type:            nonrobust                                         \n",
            "==============================================================================\n",
            "                 coef    std err          t      P>|t|      [0.025      0.975]\n",
            "------------------------------------------------------------------------------\n",
            "Intercept     -0.3754      0.135     -2.789      0.011      -0.655      -0.096\n",
            "==============================================================================\n",
            "Omnibus:                        0.182   Durbin-Watson:                   1.305\n",
            "Prob(Omnibus):                  0.913   Jarque-Bera (JB):                0.016\n",
            "Skew:                           0.021   Prob(JB):                        0.992\n",
            "Kurtosis:                       2.876   Cond. No.                         1.00\n",
            "==============================================================================\n",
            "\n",
            "Notes:\n",
            "[1] Standard Errors assume that the covariance matrix of the errors is correctly specified.\n"
          ]
        }
      ]
    },
    {
      "cell_type": "markdown",
      "metadata": {
        "id": "Y0gezJ9CiJHM"
      },
      "source": [
        "Notice that the `t` statistics and `p` values for the linear model and t-test the same!"
      ]
    },
    {
      "cell_type": "markdown",
      "metadata": {
        "id": "PTfWUsbMiJHN"
      },
      "source": [
        "#### 4.1.2 Python code: One-sample  Wilcoxon signed-rank test\n",
        "We use [`scipy.stats.wilcoxon`](https://docs.scipy.org/doc/scipy/reference/generated/scipy.stats.wilcoxon.html) for the non-parametric comparison test and compare it to the $p$-value for a ranked data linear model."
      ]
    },
    {
      "cell_type": "code",
      "metadata": {
        "id": "Gs2oUva1iJHN",
        "outputId": "d979980e-28a9-426c-946e-0f553e5469c9"
      },
      "source": [
        "stats.wilcoxon(data[data.smoker==1].Birthweight_adj)"
      ],
      "execution_count": null,
      "outputs": [
        {
          "data": {
            "application/javascript": [
              "\n",
              "        if (window._pyforest_update_imports_cell) { window._pyforest_update_imports_cell('from scipy import stats'); }\n",
              "    "
            ],
            "text/plain": [
              "<IPython.core.display.Javascript object>"
            ]
          },
          "metadata": {},
          "output_type": "display_data"
        },
        {
          "data": {
            "text/plain": [
              "WilcoxonResult(statistic=51.0, pvalue=0.01272726058959961)"
            ]
          },
          "execution_count": 206,
          "metadata": {},
          "output_type": "execute_result"
        }
      ]
    },
    {
      "cell_type": "code",
      "metadata": {
        "id": "RMUu_TP2iJHN",
        "outputId": "79892ed4-1177-4a35-bc6a-736f2ddd2475"
      },
      "source": [
        "signed_rank_data = signed_rank(data[data.smoker==1])\n",
        "res = smf.ols(\"Birthweight_adj ~ 1\", data=signed_rank_data).fit()\n",
        "print(res.summary())"
      ],
      "execution_count": null,
      "outputs": [
        {
          "name": "stdout",
          "output_type": "stream",
          "text": [
            "                            OLS Regression Results                            \n",
            "==============================================================================\n",
            "Dep. Variable:        Birthweight_adj   R-squared:                      -0.000\n",
            "Model:                            OLS   Adj. R-squared:                 -0.000\n",
            "Method:                 Least Squares   F-statistic:                       nan\n",
            "Date:                Thu, 26 Aug 2021   Prob (F-statistic):                nan\n",
            "Time:                        13:25:46   Log-Likelihood:                -84.360\n",
            "No. Observations:                  22   AIC:                             170.7\n",
            "Df Residuals:                      21   BIC:                             171.8\n",
            "Df Model:                           0                                         \n",
            "Covariance Type:            nonrobust                                         \n",
            "==============================================================================\n",
            "                 coef    std err          t      P>|t|      [0.025      0.975]\n",
            "------------------------------------------------------------------------------\n",
            "Intercept     -6.8636      2.443     -2.809      0.011     -11.945      -1.782\n",
            "==============================================================================\n",
            "Omnibus:                        1.920   Durbin-Watson:                   1.250\n",
            "Prob(Omnibus):                  0.383   Jarque-Bera (JB):                1.649\n",
            "Skew:                           0.603   Prob(JB):                        0.438\n",
            "Kurtosis:                       2.411   Cond. No.                         1.00\n",
            "==============================================================================\n",
            "\n",
            "Notes:\n",
            "[1] Standard Errors assume that the covariance matrix of the errors is correctly specified.\n"
          ]
        }
      ]
    },
    {
      "cell_type": "markdown",
      "metadata": {
        "id": "hS6GYFA2iJHO"
      },
      "source": [
        "### 4.2 Paired samples t-test and Wilcoxon matched pairs\n",
        "\n",
        "A paired t-test or matched pairs test is used when we are interested in the difference between two variables for the same subject. Often the two variables might be measurements that are separated by time (e.g. cholesterol levels before and after a special diet). \n",
        "\n",
        "#### 4.2.1 Theory: As linear models\n",
        "\n",
        "**t-test** model: a single number (intercept) predicts the pairwise differences.\n",
        "\n",
        "$y_2-y_1 = \\beta_0 \\qquad \\mathcal{H}_0: \\beta_0 = 0$\n",
        "\n",
        "This means that there is just one $y = y_2 - y_1$ to predict and it becomes a [one-sample t-test](#4.1-One-sample-t-test-and-Wilcoxon-signed-rank) on the pairwise differences. The idea is therefore also the same as for the one-sample t-test. "
      ]
    },
    {
      "cell_type": "markdown",
      "metadata": {
        "id": "JFX2CTjYiJHO"
      },
      "source": [
        "Similarly, the **Wilcoxon matched pairs** only differ from **Wilcoxon signed-rank** in that it's testing the signed ranks of the pairwise $y_2-y_1$ differences.\n",
        "\n",
        "$\\text{signed_rank}(y_2-y_1) = \\beta_0 \\qquad \\mathcal{H}_0: \\beta_0 = 0$"
      ]
    },
    {
      "cell_type": "markdown",
      "metadata": {
        "id": "uTK0_2d_iJHO"
      },
      "source": [
        "**Let's load some data with matched pairs** from a study tested whether cholesterol was reduced after using a certain brand of margarine as part of a low fat, low cholesterol diet. \n",
        "\n",
        "The subjects consumed on average 2.31g of the active ingredient, stanol easter, a day. This data set contains information on 18 people using margarine to reduce cholesterol over three time points."
      ]
    },
    {
      "cell_type": "code",
      "metadata": {
        "id": "23otu9QniJHO",
        "outputId": "8bc9c8e8-4c09-455a-dd34-1f4967824223"
      },
      "source": [
        "url = \"https://raw.githubusercontent.com/DeisData/datasets/main/Cholesterol_R.csv\"\n",
        "data_matched = pd.read_csv(url)\n",
        "data_matched.head()"
      ],
      "execution_count": null,
      "outputs": [
        {
          "data": {
            "text/html": [
              "<div>\n",
              "<style scoped>\n",
              "    .dataframe tbody tr th:only-of-type {\n",
              "        vertical-align: middle;\n",
              "    }\n",
              "\n",
              "    .dataframe tbody tr th {\n",
              "        vertical-align: top;\n",
              "    }\n",
              "\n",
              "    .dataframe thead th {\n",
              "        text-align: right;\n",
              "    }\n",
              "</style>\n",
              "<table border=\"1\" class=\"dataframe\">\n",
              "  <thead>\n",
              "    <tr style=\"text-align: right;\">\n",
              "      <th></th>\n",
              "      <th>ID</th>\n",
              "      <th>Before</th>\n",
              "      <th>After4weeks</th>\n",
              "      <th>After8weeks</th>\n",
              "      <th>Margarine</th>\n",
              "    </tr>\n",
              "  </thead>\n",
              "  <tbody>\n",
              "    <tr>\n",
              "      <th>0</th>\n",
              "      <td>1</td>\n",
              "      <td>6.42</td>\n",
              "      <td>5.83</td>\n",
              "      <td>5.75</td>\n",
              "      <td>B</td>\n",
              "    </tr>\n",
              "    <tr>\n",
              "      <th>1</th>\n",
              "      <td>2</td>\n",
              "      <td>6.76</td>\n",
              "      <td>6.20</td>\n",
              "      <td>6.13</td>\n",
              "      <td>A</td>\n",
              "    </tr>\n",
              "    <tr>\n",
              "      <th>2</th>\n",
              "      <td>3</td>\n",
              "      <td>6.56</td>\n",
              "      <td>5.83</td>\n",
              "      <td>5.71</td>\n",
              "      <td>B</td>\n",
              "    </tr>\n",
              "    <tr>\n",
              "      <th>3</th>\n",
              "      <td>4</td>\n",
              "      <td>4.80</td>\n",
              "      <td>4.27</td>\n",
              "      <td>4.15</td>\n",
              "      <td>A</td>\n",
              "    </tr>\n",
              "    <tr>\n",
              "      <th>4</th>\n",
              "      <td>5</td>\n",
              "      <td>8.43</td>\n",
              "      <td>7.71</td>\n",
              "      <td>7.67</td>\n",
              "      <td>B</td>\n",
              "    </tr>\n",
              "  </tbody>\n",
              "</table>\n",
              "</div>"
            ],
            "text/plain": [
              "   ID  Before  After4weeks  After8weeks Margarine\n",
              "0   1    6.42         5.83         5.75         B\n",
              "1   2    6.76         6.20         6.13         A\n",
              "2   3    6.56         5.83         5.71         B\n",
              "3   4    4.80         4.27         4.15         A\n",
              "4   5    8.43         7.71         7.67         B"
            ]
          },
          "execution_count": 208,
          "metadata": {},
          "output_type": "execute_result"
        }
      ]
    },
    {
      "cell_type": "code",
      "metadata": {
        "id": "oFlU3MbfiJHO",
        "outputId": "abae48cd-bf92-4a6c-9f33-51e5cbda42ab"
      },
      "source": [
        "# Plot the data for each ID, Before and After 8 weeks\n",
        "fig, ax = plt.subplots()\n",
        "sns.scatterplot(x='ID',y='Before',data=data_matched, ax=ax)\n",
        "sns.scatterplot(x='ID',y='After8weeks',data=data_matched, ax=ax)\n",
        "ax.set_ylabel('Cholesterol Before and After 8 wks')\n",
        "ax.set_xlabel('Patient ID')"
      ],
      "execution_count": null,
      "outputs": [
        {
          "data": {
            "text/plain": [
              "Text(0.5, 0, 'Patient ID')"
            ]
          },
          "execution_count": 209,
          "metadata": {},
          "output_type": "execute_result"
        },
        {
          "data": {
            "image/png": "[encoded data removed]",
            "text/plain": [
              "<Figure size 432x288 with 1 Axes>"
            ]
          },
          "metadata": {
            "needs_background": "light"
          },
          "output_type": "display_data"
        }
      ]
    },
    {
      "cell_type": "markdown",
      "metadata": {
        "id": "TXrFCFHciJHP"
      },
      "source": [
        "#### 4.2.2 Python code: Paired sample t-test"
      ]
    },
    {
      "cell_type": "code",
      "metadata": {
        "id": "BoGHIfLpiJHP",
        "outputId": "3c998d83-fc24-4011-8aa5-9ad67b93b37f"
      },
      "source": [
        "t, p = scipy.stats.ttest_rel(data_matched.After8weeks, data_matched.Before)\n",
        "print(t,p)"
      ],
      "execution_count": null,
      "outputs": [
        {
          "name": "stdout",
          "output_type": "stream",
          "text": [
            "-14.945967764585072 3.27857534017563e-11\n"
          ]
        }
      ]
    },
    {
      "cell_type": "code",
      "metadata": {
        "id": "n2DBIV2NiJHP",
        "outputId": "4f0e3aa1-5fd5-4249-bf5c-6589ca2e2fab"
      },
      "source": [
        "# Let's add a column to our dataFrame subtracting the difference in cholesterol measures\n",
        "data_matched[\"cholesterol_diff\"] = data_matched.After8weeks - data_matched.Before\n",
        "data_matched.head()"
      ],
      "execution_count": null,
      "outputs": [
        {
          "data": {
            "text/html": [
              "<div>\n",
              "<style scoped>\n",
              "    .dataframe tbody tr th:only-of-type {\n",
              "        vertical-align: middle;\n",
              "    }\n",
              "\n",
              "    .dataframe tbody tr th {\n",
              "        vertical-align: top;\n",
              "    }\n",
              "\n",
              "    .dataframe thead th {\n",
              "        text-align: right;\n",
              "    }\n",
              "</style>\n",
              "<table border=\"1\" class=\"dataframe\">\n",
              "  <thead>\n",
              "    <tr style=\"text-align: right;\">\n",
              "      <th></th>\n",
              "      <th>ID</th>\n",
              "      <th>Before</th>\n",
              "      <th>After4weeks</th>\n",
              "      <th>After8weeks</th>\n",
              "      <th>Margarine</th>\n",
              "      <th>cholesterol_diff</th>\n",
              "    </tr>\n",
              "  </thead>\n",
              "  <tbody>\n",
              "    <tr>\n",
              "      <th>0</th>\n",
              "      <td>1</td>\n",
              "      <td>6.42</td>\n",
              "      <td>5.83</td>\n",
              "      <td>5.75</td>\n",
              "      <td>B</td>\n",
              "      <td>-0.67</td>\n",
              "    </tr>\n",
              "    <tr>\n",
              "      <th>1</th>\n",
              "      <td>2</td>\n",
              "      <td>6.76</td>\n",
              "      <td>6.20</td>\n",
              "      <td>6.13</td>\n",
              "      <td>A</td>\n",
              "      <td>-0.63</td>\n",
              "    </tr>\n",
              "    <tr>\n",
              "      <th>2</th>\n",
              "      <td>3</td>\n",
              "      <td>6.56</td>\n",
              "      <td>5.83</td>\n",
              "      <td>5.71</td>\n",
              "      <td>B</td>\n",
              "      <td>-0.85</td>\n",
              "    </tr>\n",
              "    <tr>\n",
              "      <th>3</th>\n",
              "      <td>4</td>\n",
              "      <td>4.80</td>\n",
              "      <td>4.27</td>\n",
              "      <td>4.15</td>\n",
              "      <td>A</td>\n",
              "      <td>-0.65</td>\n",
              "    </tr>\n",
              "    <tr>\n",
              "      <th>4</th>\n",
              "      <td>5</td>\n",
              "      <td>8.43</td>\n",
              "      <td>7.71</td>\n",
              "      <td>7.67</td>\n",
              "      <td>B</td>\n",
              "      <td>-0.76</td>\n",
              "    </tr>\n",
              "  </tbody>\n",
              "</table>\n",
              "</div>"
            ],
            "text/plain": [
              "   ID  Before  After4weeks  After8weeks Margarine  cholesterol_diff\n",
              "0   1    6.42         5.83         5.75         B             -0.67\n",
              "1   2    6.76         6.20         6.13         A             -0.63\n",
              "2   3    6.56         5.83         5.71         B             -0.85\n",
              "3   4    4.80         4.27         4.15         A             -0.65\n",
              "4   5    8.43         7.71         7.67         B             -0.76"
            ]
          },
          "execution_count": 211,
          "metadata": {},
          "output_type": "execute_result"
        }
      ]
    },
    {
      "cell_type": "code",
      "metadata": {
        "id": "8BMF1kLgiJHP",
        "outputId": "1d9277bf-e331-4220-b9e4-edd9b366eab7"
      },
      "source": [
        "# The ttest_rel is similar to calculating the difference in y values for each match, and \n",
        "# fitting a linear model\n",
        "res = smf.ols(formula=\"cholesterol_diff ~ 1\", data=data_matched).fit()\n",
        "print(res.summary())"
      ],
      "execution_count": null,
      "outputs": [
        {
          "name": "stdout",
          "output_type": "stream",
          "text": [
            "                            OLS Regression Results                            \n",
            "==============================================================================\n",
            "Dep. Variable:       cholesterol_diff   R-squared:                       0.000\n",
            "Model:                            OLS   Adj. R-squared:                  0.000\n",
            "Method:                 Least Squares   F-statistic:                       nan\n",
            "Date:                Thu, 26 Aug 2021   Prob (F-statistic):                nan\n",
            "Time:                        13:25:47   Log-Likelihood:                 5.9885\n",
            "No. Observations:                  18   AIC:                            -9.977\n",
            "Df Residuals:                      17   BIC:                            -9.087\n",
            "Df Model:                           0                                         \n",
            "Covariance Type:            nonrobust                                         \n",
            "==============================================================================\n",
            "                 coef    std err          t      P>|t|      [0.025      0.975]\n",
            "------------------------------------------------------------------------------\n",
            "Intercept     -0.6289      0.042    -14.946      0.000      -0.718      -0.540\n",
            "==============================================================================\n",
            "Omnibus:                        0.404   Durbin-Watson:                   2.273\n",
            "Prob(Omnibus):                  0.817   Jarque-Bera (JB):                0.371\n",
            "Skew:                           0.291   Prob(JB):                        0.831\n",
            "Kurtosis:                       2.605   Cond. No.                         1.00\n",
            "==============================================================================\n",
            "\n",
            "Notes:\n",
            "[1] Standard Errors assume that the covariance matrix of the errors is correctly specified.\n"
          ]
        },
        {
          "name": "stderr",
          "output_type": "stream",
          "text": [
            "/opt/anaconda3/lib/python3.8/site-packages/scipy/stats/stats.py:1603: UserWarning: kurtosistest only valid for n>=20 ... continuing anyway, n=18\n",
            "  warnings.warn(\"kurtosistest only valid for n>=20 ... continuing \"\n"
          ]
        }
      ]
    },
    {
      "cell_type": "markdown",
      "metadata": {
        "id": "sLIScqiWiJHQ"
      },
      "source": [
        "You will notice the `t` statistics and `p` values are similar for the Paired T-test and a linear fit of the difference in the matched data."
      ]
    },
    {
      "cell_type": "markdown",
      "metadata": {
        "id": "6HSCX4biiJHQ"
      },
      "source": [
        "#### 4.2.3 Python code: Wilcoxon matched pairs\n",
        "\n",
        "Again, we do the signed-ranks trick. This is still an approximation, but a close one:"
      ]
    },
    {
      "cell_type": "code",
      "metadata": {
        "id": "G8ZaBCfliJHQ",
        "outputId": "b322549b-266e-431f-94c7-3f40279cc884"
      },
      "source": [
        "stats.wilcoxon(data_matched.After8weeks, data_matched.Before)\n"
      ],
      "execution_count": null,
      "outputs": [
        {
          "data": {
            "application/javascript": [
              "\n",
              "        if (window._pyforest_update_imports_cell) { window._pyforest_update_imports_cell('from scipy import stats'); }\n",
              "    "
            ],
            "text/plain": [
              "<IPython.core.display.Javascript object>"
            ]
          },
          "metadata": {},
          "output_type": "display_data"
        },
        {
          "data": {
            "text/plain": [
              "WilcoxonResult(statistic=0.0, pvalue=7.62939453125e-06)"
            ]
          },
          "execution_count": 213,
          "metadata": {},
          "output_type": "execute_result"
        }
      ]
    },
    {
      "cell_type": "markdown",
      "metadata": {
        "id": "CdHI7fOCiJHQ"
      },
      "source": [
        "**Practice for you.**  Compare the matched data after 4 weeks and after 8 weeks.  What are the results of the paired sample t-test? Of the Wilcoxon matched pairs test?"
      ]
    },
    {
      "cell_type": "code",
      "metadata": {
        "id": "8GFD3RuIiJHQ"
      },
      "source": [
        "# Your code goes here!:\n"
      ],
      "execution_count": null,
      "outputs": []
    },
    {
      "cell_type": "markdown",
      "metadata": {
        "id": "3jbgVe6TiJHQ"
      },
      "source": [
        "\n",
        "***\n",
        "\n",
        "<a name=\"anchor5\"></a>\n",
        "\n",
        "# 5 Many mean comparisons\n",
        "\n",
        "ANOVAs are linear models with categorical predictors.  The one-way ANOVA tests the null hypothesis that two or more groups have the same population mean. The test is applied to samples from two or more groups, possibly with differing sizes.\n"
      ]
    },
    {
      "cell_type": "markdown",
      "metadata": {
        "id": "c_7kMbIOiJHQ"
      },
      "source": [
        "### 5.1 Theory: As linear models\n",
        "\n",
        "Model: One mean for each group predicts $y$.\n",
        "\n",
        "$y = \\beta_0 + \\beta_1 x_1 + \\beta_2 x_2 + \\beta_3 x_3 +... \\qquad \\mathcal{H}_0: y = \\beta_0$\n",
        "\n",
        "where $x_i$ are indicators ($x=0$ or $x=1$) where at most one $x_i=1$ while all others are $x_i=0$. \n",
        "\n",
        "Notice how this is just \"more of the same\" of what we already did in other models above. When there are only two groups, this model is $y = \\beta_0 + \\beta_1*x$, i.e. the independent t-test. If there is only one group, it is $y = \\beta_0$, i.e. the one-sample t-test."
      ]
    },
    {
      "cell_type": "markdown",
      "metadata": {
        "id": "SHaL0Py26DFM"
      },
      "source": [
        "Since we now regress on more than one $x$, the one-way ANOVA is a **multiple regression** model.\n",
        "\n",
        "The **Kruskal-Wallis** test is simply a **one-way ANOVA** on the rank-transformed $y$ (`value`):\n",
        "\n",
        "$\\text{rank}(y) = \\beta_0 + \\beta_1 x_1 + \\beta_2 x_2 + \\beta_3 x_3 +...$\n",
        "\n",
        "This approximation is [good enough for 12 or more data points](https://lindeloev.github.io/tests-as-linear/simulations/simulate_kruskall.html). "
      ]
    },
    {
      "cell_type": "markdown",
      "metadata": {
        "id": "0f3mJJgI6DFM",
        "outputId": "577a822d-a725-4caa-9edc-00132e9272ce"
      },
      "source": [
        "### 5.2 Example data\n",
        "\n",
        "We make a two-level factor with the `Margarine` levels `A` and `B`, so that the **one-way ANOVA** basically becomes a \"two-sample t-test\". We will test the null hypothesis that the two groups have the same population mean of cholesterol level after 8 weeks."
      ]
    },
    {
      "cell_type": "code",
      "metadata": {
        "id": "zyrUWuo-iJHR",
        "outputId": "9b384cda-e37a-4be3-96e9-fffe4249acde"
      },
      "source": [
        "data_matched.head()"
      ],
      "execution_count": null,
      "outputs": [
        {
          "data": {
            "text/html": [
              "<div>\n",
              "<style scoped>\n",
              "    .dataframe tbody tr th:only-of-type {\n",
              "        vertical-align: middle;\n",
              "    }\n",
              "\n",
              "    .dataframe tbody tr th {\n",
              "        vertical-align: top;\n",
              "    }\n",
              "\n",
              "    .dataframe thead th {\n",
              "        text-align: right;\n",
              "    }\n",
              "</style>\n",
              "<table border=\"1\" class=\"dataframe\">\n",
              "  <thead>\n",
              "    <tr style=\"text-align: right;\">\n",
              "      <th></th>\n",
              "      <th>ID</th>\n",
              "      <th>Before</th>\n",
              "      <th>After4weeks</th>\n",
              "      <th>After8weeks</th>\n",
              "      <th>Margarine</th>\n",
              "      <th>cholesterol_diff</th>\n",
              "    </tr>\n",
              "  </thead>\n",
              "  <tbody>\n",
              "    <tr>\n",
              "      <th>0</th>\n",
              "      <td>1</td>\n",
              "      <td>6.42</td>\n",
              "      <td>5.83</td>\n",
              "      <td>5.75</td>\n",
              "      <td>B</td>\n",
              "      <td>-0.67</td>\n",
              "    </tr>\n",
              "    <tr>\n",
              "      <th>1</th>\n",
              "      <td>2</td>\n",
              "      <td>6.76</td>\n",
              "      <td>6.20</td>\n",
              "      <td>6.13</td>\n",
              "      <td>A</td>\n",
              "      <td>-0.63</td>\n",
              "    </tr>\n",
              "    <tr>\n",
              "      <th>2</th>\n",
              "      <td>3</td>\n",
              "      <td>6.56</td>\n",
              "      <td>5.83</td>\n",
              "      <td>5.71</td>\n",
              "      <td>B</td>\n",
              "      <td>-0.85</td>\n",
              "    </tr>\n",
              "    <tr>\n",
              "      <th>3</th>\n",
              "      <td>4</td>\n",
              "      <td>4.80</td>\n",
              "      <td>4.27</td>\n",
              "      <td>4.15</td>\n",
              "      <td>A</td>\n",
              "      <td>-0.65</td>\n",
              "    </tr>\n",
              "    <tr>\n",
              "      <th>4</th>\n",
              "      <td>5</td>\n",
              "      <td>8.43</td>\n",
              "      <td>7.71</td>\n",
              "      <td>7.67</td>\n",
              "      <td>B</td>\n",
              "      <td>-0.76</td>\n",
              "    </tr>\n",
              "  </tbody>\n",
              "</table>\n",
              "</div>"
            ],
            "text/plain": [
              "   ID  Before  After4weeks  After8weeks Margarine  cholesterol_diff\n",
              "0   1    6.42         5.83         5.75         B             -0.67\n",
              "1   2    6.76         6.20         6.13         A             -0.63\n",
              "2   3    6.56         5.83         5.71         B             -0.85\n",
              "3   4    4.80         4.27         4.15         A             -0.65\n",
              "4   5    8.43         7.71         7.67         B             -0.76"
            ]
          },
          "execution_count": 215,
          "metadata": {},
          "output_type": "execute_result"
        }
      ]
    },
    {
      "cell_type": "markdown",
      "metadata": {
        "id": "9trjagAx6DFN"
      },
      "source": [
        "### 5.3 Analysis of variance [ANOVA](https://docs.scipy.org/doc/scipy/reference/generated/scipy.stats.f_oneway.html)\n",
        "The ANOVA test has important assumptions that must be satisfied in order for the associated p-value to be valid.  We will see how to test these in **6. Checking Assumptions**\n",
        "\n",
        "- The samples are independent. \n",
        "\n",
        "- Each sample is from a normally distributed population. [KS Test](https://docs.scipy.org/doc/scipy/reference/generated/scipy.stats.kstest.html)\n",
        "\n",
        "- The population standard deviations of the groups are all equal. This property is known as homoscedasticity. [Bartlett Test](https://docs.scipy.org/doc/scipy/reference/generated/scipy.stats.bartlett.html)"
      ]
    },
    {
      "cell_type": "markdown",
      "metadata": {
        "id": "teJ5vgXaiJHR"
      },
      "source": [
        "Let's see scipy's dedicated ANOVA function `scipy.stats.f_oneway`."
      ]
    },
    {
      "cell_type": "code",
      "metadata": {
        "id": "pI-ItdZ4iJHS",
        "outputId": "a865f73b-ee0c-41ba-ff72-e39d0101be4f"
      },
      "source": [
        "# Extract subsets of data\n",
        "data_matched_A = data_matched[data_matched.Margarine=='A']\n",
        "data_matched_B = data_matched[data_matched.Margarine=='B']\n",
        "\n",
        "scipy.stats.f_oneway(data_matched_A.After8weeks,\n",
        "                    data_matched_B.After8weeks)"
      ],
      "execution_count": null,
      "outputs": [
        {
          "data": {
            "text/plain": [
              "F_onewayResult(statistic=1.2662631426081903, pvalue=0.27706640602454957)"
            ]
          },
          "execution_count": 216,
          "metadata": {},
          "output_type": "execute_result"
        }
      ]
    },
    {
      "cell_type": "markdown",
      "metadata": {
        "id": "Nq6y4Hpt6DFP"
      },
      "source": [
        "### 5.4 Kruskal-Wallis H-test\n",
        "If ANOVA assumptions are not met, we can consider a non-parametric test.\n",
        "The [Kruskal-Wallis H-test](https://docs.scipy.org/doc/scipy/reference/generated/scipy.stats.kruskal.html) (`scipy.stats.kruskal`) tests the null hypothesis that the population median of all of the groups are equal. \n"
      ]
    },
    {
      "cell_type": "code",
      "metadata": {
        "colab": {
          "base_uri": "https://localhost:8080/"
        },
        "id": "9p25-kFg6DFP",
        "outputId": "3e4afcbc-ae98-419a-a5c9-fa496b0c6591"
      },
      "source": [
        "# Notice here, we have combined the steps of extracting subsets of data,  \n",
        "# accessing the .After8weeks column from the subset,\n",
        "# and doing the Kruskal test!  Python is powerful!\n",
        "\n",
        "stats.kruskal(data_matched[data_matched.Margarine=='A'].After8weeks,\n",
        "                    data_matched[data_matched.Margarine=='B'].After8weeks)\n",
        "\n",
        "# Python starts working inside the parentheses, just like algebra."
      ],
      "execution_count": null,
      "outputs": [
        {
          "data": {
            "application/javascript": [
              "\n",
              "        if (window._pyforest_update_imports_cell) { window._pyforest_update_imports_cell('from scipy import stats'); }\n",
              "    "
            ],
            "text/plain": [
              "<IPython.core.display.Javascript object>"
            ]
          },
          "metadata": {},
          "output_type": "display_data"
        },
        {
          "data": {
            "text/plain": [
              "KruskalResult(statistic=1.0311890838206494, pvalue=0.3098795496397732)"
            ]
          },
          "execution_count": 217,
          "metadata": {},
          "output_type": "execute_result"
        }
      ]
    },
    {
      "cell_type": "markdown",
      "metadata": {
        "id": "oXvG_vgp6DFP"
      },
      "source": [
        "Do Not Reject the hypothesis that median cholesterol levels at 8 weeks are equal for the Margarine A and Margarine B groups."
      ]
    },
    {
      "cell_type": "markdown",
      "metadata": {
        "id": "zfpC9aPn6DFQ"
      },
      "source": [
        "### 5.5 **CHALLENGE for you!**  \n",
        "Think back to the Birthweight `data`.  Can you set up a test of equal means for the birthweights measured from four groups of mothers who are:\n",
        "- over 35 and smoke\n",
        "- over 35 and do not smoke\n",
        "- under 35 and smoke\n",
        "- under 35 and do not smoke"
      ]
    },
    {
      "cell_type": "code",
      "metadata": {
        "id": "j_8D8xww6DFQ"
      },
      "source": [
        "# Try it here!: \n"
      ],
      "execution_count": null,
      "outputs": []
    },
    {
      "cell_type": "markdown",
      "metadata": {
        "id": "9MEHq10ZiJHT"
      },
      "source": [
        "<a name=\"anchor6\"></a>\n",
        "\n",
        "## 6. Checking Assumptions\n",
        "\n",
        "Parametric tests like the t-tests and ANOVA have important assumptions that must be satisfied in order for the associated p-value to be valid, including:  \n",
        "\n",
        "- The samples are independent. \n",
        "- Each sample is from a normally distributed population.\n",
        "- The population standard deviations of the groups are all equal. This property is known as homoscedasticity.\n",
        "\n",
        "Here are just a few tools to check some of these assumptions.\n"
      ]
    },
    {
      "cell_type": "markdown",
      "metadata": {
        "id": "0iCNmQn4iJHT"
      },
      "source": [
        "### 6.1 Checking normality (Gaussian distribution)"
      ]
    },
    {
      "cell_type": "markdown",
      "metadata": {
        "id": "Ms3VJDETiJHT"
      },
      "source": [
        "Baby weight is normally distributed (i.e. bell-shaped.)  We can check this visually with a histogram `sns.histplot` and with the [Kolmogorv Smirnov Test](https://docs.scipy.org/doc/scipy/reference/generated/scipy.stats.kstest.html) `scipy.stats.kstest`"
      ]
    },
    {
      "cell_type": "code",
      "metadata": {
        "id": "omS3q7IEiJHT",
        "outputId": "1763c4a3-fb9b-47ee-f78c-099095699da9"
      },
      "source": [
        "# [68]\n",
        "# Are the samples normally distributed?\n",
        "sns.histplot(data.Birthweight)\n",
        "stats.kstest(data.Birthweight,'norm')\n"
      ],
      "execution_count": null,
      "outputs": [
        {
          "data": {
            "application/javascript": [
              "\n",
              "        if (window._pyforest_update_imports_cell) { window._pyforest_update_imports_cell('from scipy import stats'); }\n",
              "    "
            ],
            "text/plain": [
              "<IPython.core.display.Javascript object>"
            ]
          },
          "metadata": {},
          "output_type": "display_data"
        },
        {
          "data": {
            "text/plain": [
              "KstestResult(statistic=0.9725710502961632, pvalue=5.07943581694757e-66)"
            ]
          },
          "execution_count": 219,
          "metadata": {},
          "output_type": "execute_result"
        },
        {
          "data": {
            "image/png": "[encoded data removed]",
            "text/plain": [
              "<Figure size 432x288 with 1 Axes>"
            ]
          },
          "metadata": {
            "needs_background": "light"
          },
          "output_type": "display_data"
        }
      ]
    },
    {
      "cell_type": "markdown",
      "metadata": {
        "id": "fqs5xCF_iJHT"
      },
      "source": [
        "**Your turn** Is the number of cigarettes smoked per day normally distributed?"
      ]
    },
    {
      "cell_type": "code",
      "metadata": {
        "id": "yK5wUSo3iJHT"
      },
      "source": [
        "# Try it here!:\n"
      ],
      "execution_count": null,
      "outputs": []
    },
    {
      "cell_type": "markdown",
      "metadata": {
        "id": "OrxZ_MmviJHU"
      },
      "source": [
        "### 6.2 Checking heteroscedasticity"
      ]
    },
    {
      "cell_type": "markdown",
      "metadata": {
        "id": "hONK1r62iJHU"
      },
      "source": [
        "The population standard deviations of the groups are all equal. This property is known as homoscedasticity. One of several tests available to check this is the [Bartlett Test](https://docs.scipy.org/doc/scipy/reference/generated/scipy.stats.bartlett.html) `scipy.stats.bartlett`."
      ]
    },
    {
      "cell_type": "code",
      "metadata": {
        "id": "wh5_dEbEiJHU",
        "outputId": "3e1bc804-fc35-4a33-ea2f-e17dce402cee"
      },
      "source": [
        "# Are the standard deviations equal for the smokers and non-smokers birthweight data?\n",
        "stats.bartlett(data_smokers.Birthweight, data_nonsmokers.Birthweight)"
      ],
      "execution_count": null,
      "outputs": [
        {
          "data": {
            "application/javascript": [
              "\n",
              "        if (window._pyforest_update_imports_cell) { window._pyforest_update_imports_cell('from scipy import stats'); }\n",
              "    "
            ],
            "text/plain": [
              "<IPython.core.display.Javascript object>"
            ]
          },
          "metadata": {},
          "output_type": "display_data"
        },
        {
          "data": {
            "text/plain": [
              "BartlettResult(statistic=0.743871469606483, pvalue=0.38842352374096334)"
            ]
          },
          "execution_count": 221,
          "metadata": {},
          "output_type": "execute_result"
        }
      ]
    },
    {
      "cell_type": "markdown",
      "metadata": {
        "id": "vO1ozBzQiJHU"
      },
      "source": [
        "**Practice for you**:  Are the standard deviations of birthweight data equal for the groups of over 35 and under 35 mothers?"
      ]
    },
    {
      "cell_type": "code",
      "metadata": {
        "id": "Tr3UwfEmiJHU"
      },
      "source": [
        "# Try it here:\n"
      ],
      "execution_count": null,
      "outputs": []
    },
    {
      "cell_type": "markdown",
      "metadata": {
        "id": "NpgITG806DFQ"
      },
      "source": [
        "**Key Points**\n",
        "\n",
        "   * Hypothesis testing and p-values give you the **significance** of an\n",
        "     effect / difference.\n",
        "     \n",
        "   * Parametric and Non-parametric tests are special cases of linear models!\n",
        "\n",
        "   * **Regressions**  enable you to express rich\n",
        "     links in your data.\n",
        "\n",
        "   * **Visualizing** your data and fitting simple models give insight into the \n",
        "     data.\n"
      ]
    },
    {
      "cell_type": "markdown",
      "metadata": {
        "id": "Nbz8MQmXchMZ"
      },
      "source": [
        "***\n",
        "<a name=\"anchor7\"></a>\n",
        "\n",
        "## Resources   <a class=\"anchor\" id=\"resources\"></a>\n",
        "- This workshop follows [Tests-as-linear](https://lindeloev.github.io/tests-as-linear/)\n",
        "- See more about [Scientific Computing](https://guides.library.brandeis.edu/science/computing) and [Python](https://guides.library.brandeis.edu/c.php?g=1150530&p=8519775) on our [Science Services library guide](https://guides.library.brandeis.edu/science)\n",
        "- Request 1-1 consultations with [Brandeis Data Services](https://guides.library.brandeis.edu/dataservices)\n",
        "- Take time with tutorials at [Kaggle.com](https://www.kaggle.com/learn)\n",
        "- [Brandeis LinkedIn Learning portal](https://www.brandeis.edu/its/support/linkedin-learning/index.html)\n",
        "- [Stackoverflow](https://stackoverflow.com/)\n",
        "- [Statsmodels User Guide](https://www.statsmodels.org/stable/user-guide.html)\n",
        "- [Think stats](http://greenteapress.com/wp/think-stats-2e) book\n",
        "- [Pandas Getting Started Tutorials](https://pandas.pydata.org/docs/getting_started/index.html#getting-started)\n",
        "- Data Visualization:  [Python Graph Gallery](https://python-graph-gallery.com/)\n",
        "- [Seaborn example gallery](http://seaborn.pydata.org/examples/) "
      ]
    },
    {
      "cell_type": "code",
      "metadata": {
        "id": "IxGmhWcRiJHV"
      },
      "source": [
        ""
      ],
      "execution_count": null,
      "outputs": []
    }
  ]
}