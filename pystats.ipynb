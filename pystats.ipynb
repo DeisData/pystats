{
 "cells": [
  {
   "cell_type": "markdown",
   "id": "certified-surgeon",
   "metadata": {},
   "source": [
    "Statistics in Python\n",
    "=====================\n",
    "\n",
    "This workshop is adapted from a lesson by *Gaël Varoquaux* at [scipy-lectures.org](https://scipy-lectures.org/packages/statistics/)\n",
    "   \n",
    "### Why Python for statistics?\n",
    "R is a language dedicated to statistics. Python is a general-purpose\n",
    "    language with statistics modules. R has more statistical analysis\n",
    "    features than Python. However, when it\n",
    "    comes to building complex analysis pipelines that mix statistics with\n",
    "    image analysis, text mining, or control of a physical\n",
    "    experiment, the richness of Python is an invaluable asset."
   ]
  },
  {
   "cell_type": "code",
   "execution_count": 18,
   "id": "consolidated-canon",
   "metadata": {},
   "outputs": [],
   "source": [
    "# Libraries for handling arrays and dataframes\n",
    "import numpy as np\n",
    "import pandas as pd\n",
    "\n",
    "# Libraries for plotting\n",
    "import matplotlib.pyplot as plt\n",
    "import seaborn as sns\n",
    "\n",
    "# Library for hypothesis testing\n",
    "from scipy import stats\n",
    "\n",
    "# Library for regression modeling\n",
    "import statsmodels as sm\n",
    "from statsmodels.formula.api import ols\n",
    "\n",
    "# Library for latex \n",
    "from IPython.display import Latex"
   ]
  },
  {
   "cell_type": "markdown",
   "id": "ultimate-synthetic",
   "metadata": {},
   "source": [
    "Data representation and interaction\n",
    "====================================\n",
    "\n",
    "`examples/brain_size.csv` is a CSV file, but the separator is \";\"\n",
    " \n",
    "Our data gives observations of brain size and weight and IQ (Willerman et al. 1991).\n"
   ]
  },
  {
   "cell_type": "code",
   "execution_count": 3,
   "id": "adjustable-documentary",
   "metadata": {},
   "outputs": [],
   "source": [
    "data = pd.read_csv('examples/brain_size.csv', sep=';', na_values=\".\")\n",
    "# data \n"
   ]
  },
  {
   "cell_type": "markdown",
   "id": "passing-basin",
   "metadata": {},
   "source": [
    "The weight of the second individual is missing in the CSV file. If we\n",
    "   don't specify the missing value (NA = not available) marker, we will\n",
    "   not be able to do statistical analysis.\n"
   ]
  },
  {
   "cell_type": "markdown",
   "id": "regulation-passion",
   "metadata": {},
   "source": [
    "*Side Note* \n",
    "\n",
    "**Creating from arrays**: We can also define a `pandas.DataFrame` from arrays. For example:\n"
   ]
  },
  {
   "cell_type": "code",
   "execution_count": 7,
   "id": "corrected-yukon",
   "metadata": {},
   "outputs": [],
   "source": [
    "t = np.linspace(-6, 6, 20)\n",
    "sin_t = np.sin(t)\n",
    "cos_t = np.cos(t)\n",
    "\n",
    "# We can make a pandas.DataFrame:\n",
    "# pd.DataFrame({'t': t, 'sin': sin_t, 'cos': cos_t})  "
   ]
  },
  {
   "cell_type": "markdown",
   "id": "varied-manual",
   "metadata": {},
   "source": [
    "**Other inputs**: [pandas](http://pandas.pydata.org) can input data from\n",
    "SQL, excel files, or other formats. "
   ]
  },
  {
   "cell_type": "markdown",
   "id": "fatty-entertainment",
   "metadata": {},
   "source": [
    "## Manipulating data"
   ]
  },
  {
   "cell_type": "code",
   "execution_count": 9,
   "id": "painful-citizenship",
   "metadata": {},
   "outputs": [
    {
     "data": {
      "text/plain": [
       "Index(['Unnamed: 0', 'Sex', 'FSIQ', 'VIQ', 'PIQ', 'Weight', 'Height',\n",
       "       'MRI_Count'],\n",
       "      dtype='object')"
      ]
     },
     "execution_count": 9,
     "metadata": {},
     "output_type": "execute_result"
    }
   ],
   "source": [
    "data.shape    # 40 rows and 8 columns\n",
    "data.columns  # It has columns   \n",
    "#print(data['Sex'])  # Columns can be addressed by name   \n",
    "#print(data.Sex)  # or as an attribute   \n",
    "\n",
    "# Simpler selector\n",
    "data[data.Sex == 'Female'].mean()"
   ]
  },
  {
   "cell_type": "markdown",
   "id": "gross-latino",
   "metadata": {},
   "source": [
    "**groupby**: splitting a dataframe on values of categorical variables:\n"
   ]
  },
  {
   "cell_type": "code",
   "execution_count": 23,
   "id": "animated-providence",
   "metadata": {},
   "outputs": [],
   "source": [
    "groupby_sex = data.groupby('Sex')"
   ]
  },
  {
   "cell_type": "markdown",
   "id": "electric-chester",
   "metadata": {},
   "source": [
    "`groupby_sex` is a powerful object that exposes many\n",
    "operations on the resulting group of dataframes:"
   ]
  },
  {
   "cell_type": "code",
   "execution_count": 19,
   "id": "seventh-shopping",
   "metadata": {},
   "outputs": [
    {
     "data": {
      "text/html": [
       "<div>\n",
       "<style scoped>\n",
       "    .dataframe tbody tr th:only-of-type {\n",
       "        vertical-align: middle;\n",
       "    }\n",
       "\n",
       "    .dataframe tbody tr th {\n",
       "        vertical-align: top;\n",
       "    }\n",
       "\n",
       "    .dataframe thead th {\n",
       "        text-align: right;\n",
       "    }\n",
       "</style>\n",
       "<table border=\"1\" class=\"dataframe\">\n",
       "  <thead>\n",
       "    <tr style=\"text-align: right;\">\n",
       "      <th></th>\n",
       "      <th>Unnamed: 0</th>\n",
       "      <th>FSIQ</th>\n",
       "      <th>VIQ</th>\n",
       "      <th>PIQ</th>\n",
       "      <th>Weight</th>\n",
       "      <th>Height</th>\n",
       "      <th>MRI_Count</th>\n",
       "    </tr>\n",
       "    <tr>\n",
       "      <th>Sex</th>\n",
       "      <th></th>\n",
       "      <th></th>\n",
       "      <th></th>\n",
       "      <th></th>\n",
       "      <th></th>\n",
       "      <th></th>\n",
       "      <th></th>\n",
       "    </tr>\n",
       "  </thead>\n",
       "  <tbody>\n",
       "    <tr>\n",
       "      <th>Female</th>\n",
       "      <td>19.65</td>\n",
       "      <td>111.9</td>\n",
       "      <td>109.45</td>\n",
       "      <td>110.45</td>\n",
       "      <td>137.200000</td>\n",
       "      <td>65.765000</td>\n",
       "      <td>862654.6</td>\n",
       "    </tr>\n",
       "    <tr>\n",
       "      <th>Male</th>\n",
       "      <td>21.35</td>\n",
       "      <td>115.0</td>\n",
       "      <td>115.25</td>\n",
       "      <td>111.60</td>\n",
       "      <td>166.444444</td>\n",
       "      <td>71.431579</td>\n",
       "      <td>954855.4</td>\n",
       "    </tr>\n",
       "  </tbody>\n",
       "</table>\n",
       "</div>"
      ],
      "text/plain": [
       "        Unnamed: 0   FSIQ     VIQ     PIQ      Weight     Height  MRI_Count\n",
       "Sex                                                                        \n",
       "Female       19.65  111.9  109.45  110.45  137.200000  65.765000   862654.6\n",
       "Male         21.35  115.0  115.25  111.60  166.444444  71.431579   954855.4"
      ]
     },
     "execution_count": 19,
     "metadata": {},
     "output_type": "execute_result"
    }
   ],
   "source": [
    "groupby_sex.mean()"
   ]
  },
  {
   "cell_type": "markdown",
   "id": "personalized-benefit",
   "metadata": {},
   "source": [
    "## Plotting data\n",
    "**Scatter matrices**:"
   ]
  },
  {
   "cell_type": "code",
   "execution_count": 10,
   "id": "inappropriate-cruise",
   "metadata": {},
   "outputs": [
    {
     "data": {
      "text/plain": [
       "<seaborn.axisgrid.PairGrid at 0x7fccd2b171f0>"
      ]
     },
     "execution_count": 10,
     "metadata": {},
     "output_type": "execute_result"
    },
    {
     "data": {
      "image/png": "[encoded data removed]",
      "text/plain": [
       "<Figure size 540x540 with 12 Axes>"
      ]
     },
     "metadata": {
      "needs_background": "light"
     },
     "output_type": "display_data"
    }
   ],
   "source": [
    "sns.pairplot(data[['Weight', 'Height', 'MRI_Count']])"
   ]
  },
  {
   "cell_type": "code",
   "execution_count": 28,
   "id": "cosmetic-truck",
   "metadata": {},
   "outputs": [
    {
     "data": {
      "text/plain": [
       "<seaborn.axisgrid.PairGrid at 0x7f8b76a20b20>"
      ]
     },
     "execution_count": 28,
     "metadata": {},
     "output_type": "execute_result"
    },
    {
     "data": {
      "image/png": "[encoded data removed]",
      "text/plain": [
       "<Figure size 540x540 with 12 Axes>"
      ]
     },
     "metadata": {
      "needs_background": "light"
     },
     "output_type": "display_data"
    }
   ],
   "source": [
    "sns.pairplot(data[['PIQ', 'VIQ', 'FSIQ']])   "
   ]
  },
  {
   "cell_type": "markdown",
   "id": "handmade-addition",
   "metadata": {},
   "source": [
    "**Two populations**: The IQ metrics are bimodal, as if there are 2 sub-populations.\n"
   ]
  },
  {
   "cell_type": "markdown",
   "id": "about-restaurant",
   "metadata": {},
   "source": [
    "## Hypothesis testing: comparing two groups\n",
    "For simple [statistical tests](https://en.wikipedia.org/wiki/Statistical_hypothesis_testing), we will\n",
    "use `scipy.stats` sub-module of [scipy](http://docs.scipy.org/doc/)"
   ]
  },
  {
   "cell_type": "markdown",
   "id": "champion-bulgarian",
   "metadata": {},
   "source": [
    "### 1-sample t-test: testing the value of a population mean\n",
    "`scipy.stats.ttest_1samp` tests if the population mean of data is\n",
    "likely to be equal to a given value (technically if observations are\n",
    "drawn from a Gaussian distributions of given population mean). It returns\n",
    "the [T statistic](https://en.wikipedia.org/wiki/Student%27s_t-test),\n",
    "and the [p-value](https://en.wikipedia.org/wiki/P-value).\n"
   ]
  },
  {
   "cell_type": "code",
   "execution_count": 35,
   "id": "endangered-possession",
   "metadata": {},
   "outputs": [
    {
     "data": {
      "text/plain": [
       "Ttest_1sampResult(statistic=30.088099970849328, pvalue=1.3289196468728067e-28)"
      ]
     },
     "execution_count": 35,
     "metadata": {},
     "output_type": "execute_result"
    }
   ],
   "source": [
    "stats.ttest_1samp(data['VIQ'], 0)"
   ]
  },
  {
   "cell_type": "markdown",
   "id": "adopted-folks",
   "metadata": {},
   "source": [
    "With a p-value of $10^{-28}$ we can claim that the population mean for\n",
    "    the IQ (VIQ measure) is not 0."
   ]
  },
  {
   "cell_type": "markdown",
   "id": "handed-arbor",
   "metadata": {},
   "source": [
    "### 2-sample t-test: testing for difference across populations\n",
    "We have seen above that the mean VIQ in the male and female populations\n",
    "were different. To test if this is significant, we do a 2-sample t-test\n",
    "with `scipy.stats.ttest_ind`\n"
   ]
  },
  {
   "cell_type": "code",
   "execution_count": 36,
   "id": "interesting-convention",
   "metadata": {},
   "outputs": [
    {
     "data": {
      "text/plain": [
       "Ttest_indResult(statistic=-0.7726161723275011, pvalue=0.44452876778583217)"
      ]
     },
     "execution_count": 36,
     "metadata": {},
     "output_type": "execute_result"
    }
   ],
   "source": [
    "female_viq = data[data['Sex'] == 'Female']['VIQ']\n",
    "male_viq = data[data['Sex'] == 'Male']['VIQ']\n",
    "stats.ttest_ind(female_viq, male_viq)"
   ]
  },
  {
   "cell_type": "markdown",
   "id": "affiliated-planning",
   "metadata": {},
   "source": [
    "### Paired tests: repeated measurements on the same individuals\n",
    "PIQ, VIQ, and FSIQ give 3 measures of IQ. Let us test if FISQ and PIQ are\n",
    "significantly different. We can use a 2 sample test:\n"
   ]
  },
  {
   "cell_type": "code",
   "execution_count": 37,
   "id": "confused-birthday",
   "metadata": {},
   "outputs": [
    {
     "data": {
      "text/plain": [
       "Ttest_indResult(statistic=0.465637596380964, pvalue=0.6427725009414841)"
      ]
     },
     "execution_count": 37,
     "metadata": {},
     "output_type": "execute_result"
    }
   ],
   "source": [
    "stats.ttest_ind(data['FSIQ'], data['PIQ'])"
   ]
  },
  {
   "cell_type": "markdown",
   "id": "connected-belarus",
   "metadata": {},
   "source": [
    "The problem with this approach is that it forgets that there are links\n",
    "between observations: FSIQ and PIQ are measured on the same individuals.\n",
    "Thus the variance due to inter-subject variability is confounding, and\n",
    "can be removed, using a \"paired test\", or [repeated measures test](https://en.wikipedia.org/wiki/Repeated_measures_design)"
   ]
  },
  {
   "cell_type": "code",
   "execution_count": 38,
   "id": "thrown-junction",
   "metadata": {},
   "outputs": [
    {
     "data": {
      "text/plain": [
       "Ttest_relResult(statistic=1.7842019405859857, pvalue=0.08217263818364236)"
      ]
     },
     "execution_count": 38,
     "metadata": {},
     "output_type": "execute_result"
    }
   ],
   "source": [
    "stats.ttest_rel(data['FSIQ'], data['PIQ'])"
   ]
  },
  {
   "cell_type": "markdown",
   "id": "handed-music",
   "metadata": {},
   "source": [
    "This is equivalent to a 1-sample test on the difference:\n"
   ]
  },
  {
   "cell_type": "code",
   "execution_count": 39,
   "id": "velvet-israeli",
   "metadata": {},
   "outputs": [
    {
     "data": {
      "text/plain": [
       "Ttest_1sampResult(statistic=1.7842019405859857, pvalue=0.08217263818364236)"
      ]
     },
     "execution_count": 39,
     "metadata": {},
     "output_type": "execute_result"
    }
   ],
   "source": [
    "stats.ttest_1samp(data['FSIQ'] - data['PIQ'], 0)"
   ]
  },
  {
   "cell_type": "markdown",
   "id": "adopted-ancient",
   "metadata": {},
   "source": [
    "T-tests assume Gaussian errors. We can use a [Wilcoxon signed-rank test](https://en.wikipedia.org/wiki/Wilcoxon_signed-rank_test), that relaxes\n",
    "this assumption.\n"
   ]
  },
  {
   "cell_type": "code",
   "execution_count": 40,
   "id": "sunset-authorization",
   "metadata": {},
   "outputs": [
    {
     "data": {
      "text/plain": [
       "WilcoxonResult(statistic=274.5, pvalue=0.10659492713506856)"
      ]
     },
     "execution_count": 40,
     "metadata": {},
     "output_type": "execute_result"
    }
   ],
   "source": [
    "stats.wilcoxon(data['FSIQ'], data['PIQ'])"
   ]
  },
  {
   "cell_type": "markdown",
   "id": "virtual-breeding",
   "metadata": {},
   "source": [
    "Note: The corresponding test in the non paired case is the [Mann–Whitney U test](https://en.wikipedia.org/wiki/Mann%E2%80%93Whitney_U),\n",
    "`scipy.stats.mannwhitneyu`.\n",
    "\n",
    "\n",
    "**Conclusion**: we find that the data does not support the hypothesis\n",
    "   that people of the male and female sex have different VIQ.\n",
    "\n",
    "## Linear models, multiple factors, and analysis of variance\n",
    "We saw how easy it is to fit a simple linear regression in `seaborn`."
   ]
  },
  {
   "cell_type": "code",
   "execution_count": 41,
   "id": "surface-orlando",
   "metadata": {},
   "outputs": [
    {
     "data": {
      "text/plain": [
       "<seaborn.axisgrid.FacetGrid at 0x7f8b77aa2b80>"
      ]
     },
     "execution_count": 41,
     "metadata": {},
     "output_type": "execute_result"
    },
    {
     "data": {
      "image/png": "[encoded data removed]",
      "text/plain": [
       "<Figure size 360x360 with 1 Axes>"
      ]
     },
     "metadata": {
      "needs_background": "light"
     },
     "output_type": "display_data"
    }
   ],
   "source": [
    "# A simple linear regression\n",
    "sns.lmplot(x='PIQ', y='VIQ', data=data)\n"
   ]
  },
  {
   "cell_type": "markdown",
   "id": "associate-postcard",
   "metadata": {},
   "source": [
    "Given two set of observations, `x` and `y`, we want to test the\n",
    "hypothesis that `y` is a linear function of `x`. In other terms:\n",
    "\n",
    "$y = x * \\beta + \\alpha + \\epsilon$ \n",
    "\n",
    "where $\\epsilon$ is observation noise. \n",
    "\n",
    "We will use the [statsmodels](http://statsmodels.sourceforge.net/) module to:\n",
    "\n",
    "- Fit a linear model. We will use the simplest strategy, [ordinary least\n",
    "   squares](https://en.wikipedia.org/wiki/Ordinary_least_squares).\n",
    "\n",
    "- Test that the coefficient $\\beta$ is non zero.\n",
    "\n"
   ]
  },
  {
   "cell_type": "code",
   "execution_count": 47,
   "id": "compressed-thong",
   "metadata": {},
   "outputs": [
    {
     "data": {
      "text/plain": [
       "<seaborn.axisgrid.FacetGrid at 0x7f8b77abb520>"
      ]
     },
     "execution_count": 47,
     "metadata": {},
     "output_type": "execute_result"
    },
    {
     "data": {
      "image/png": "[encoded data removed]",
      "text/plain": [
       "<Figure size 360x360 with 1 Axes>"
      ]
     },
     "metadata": {
      "needs_background": "light"
     },
     "output_type": "display_data"
    }
   ],
   "source": [
    "#First, we generate simulated data according to the model:\n",
    "x = np.linspace(-5, 5, 20)\n",
    "np.random.seed(1)\n",
    "\n",
    "# normal distributed noise\n",
    "y = -5 + 3*x + 4 * np.random.normal(size=x.shape)\n",
    "\n",
    "# Create a data frame containing all the relevant variables\n",
    "dataf = pd.DataFrame({'x': x, 'y': y})\n",
    "\n",
    "sns.lmplot(data=dataf, x='x', y='y')"
   ]
  },
  {
   "cell_type": "code",
   "execution_count": 43,
   "id": "attempted-emission",
   "metadata": {},
   "outputs": [
    {
     "name": "stdout",
     "output_type": "stream",
     "text": [
      "                            OLS Regression Results                            \n",
      "==============================================================================\n",
      "Dep. Variable:                      y   R-squared:                       0.804\n",
      "Model:                            OLS   Adj. R-squared:                  0.794\n",
      "Method:                 Least Squares   F-statistic:                     74.03\n",
      "Date:                Mon, 22 Feb 2021   Prob (F-statistic):           8.56e-08\n",
      "Time:                        22:17:22   Log-Likelihood:                -57.988\n",
      "No. Observations:                  20   AIC:                             120.0\n",
      "Df Residuals:                      18   BIC:                             122.0\n",
      "Df Model:                           1                                         \n",
      "Covariance Type:            nonrobust                                         \n",
      "==============================================================================\n",
      "                 coef    std err          t      P>|t|      [0.025      0.975]\n",
      "------------------------------------------------------------------------------\n",
      "Intercept     -5.5335      1.036     -5.342      0.000      -7.710      -3.357\n",
      "x              2.9369      0.341      8.604      0.000       2.220       3.654\n",
      "==============================================================================\n",
      "Omnibus:                        0.100   Durbin-Watson:                   2.956\n",
      "Prob(Omnibus):                  0.951   Jarque-Bera (JB):                0.322\n",
      "Skew:                          -0.058   Prob(JB):                        0.851\n",
      "Kurtosis:                       2.390   Cond. No.                         3.03\n",
      "==============================================================================\n",
      "\n",
      "Notes:\n",
      "[1] Standard Errors assume that the covariance matrix of the errors is correctly specified.\n"
     ]
    }
   ],
   "source": [
    "# Then we specify an OLS model and fit it:\n",
    "model = ols(\"y ~ x\", data).fit()\n",
    "\n",
    "# We can inspect the various statistics derived from the fit::\n",
    "print(model.summary()) "
   ]
  },
  {
   "cell_type": "markdown",
   "id": "asian-astronomy",
   "metadata": {},
   "source": [
    "### Categorical variables: comparing groups or multiple categories\n",
    "We can write a comparison between IQ of male and female using a linear\n",
    "model:"
   ]
  },
  {
   "cell_type": "code",
   "execution_count": 51,
   "id": "clinical-document",
   "metadata": {},
   "outputs": [
    {
     "name": "stdout",
     "output_type": "stream",
     "text": [
      "                            OLS Regression Results                            \n",
      "==============================================================================\n",
      "Dep. Variable:                    VIQ   R-squared:                       0.015\n",
      "Model:                            OLS   Adj. R-squared:                 -0.010\n",
      "Method:                 Least Squares   F-statistic:                    0.5969\n",
      "Date:                Mon, 22 Feb 2021   Prob (F-statistic):              0.445\n",
      "Time:                        22:21:17   Log-Likelihood:                -182.42\n",
      "No. Observations:                  40   AIC:                             368.8\n",
      "Df Residuals:                      38   BIC:                             372.2\n",
      "Df Model:                           1                                         \n",
      "Covariance Type:            nonrobust                                         \n",
      "===============================================================================\n",
      "                  coef    std err          t      P>|t|      [0.025      0.975]\n",
      "-------------------------------------------------------------------------------\n",
      "Intercept     109.4500      5.308     20.619      0.000      98.704     120.196\n",
      "Sex[T.Male]     5.8000      7.507      0.773      0.445      -9.397      20.997\n",
      "==============================================================================\n",
      "Omnibus:                       26.188   Durbin-Watson:                   1.709\n",
      "Prob(Omnibus):                  0.000   Jarque-Bera (JB):                3.703\n",
      "Skew:                           0.010   Prob(JB):                        0.157\n",
      "Kurtosis:                       1.510   Cond. No.                         2.62\n",
      "==============================================================================\n",
      "\n",
      "Notes:\n",
      "[1] Standard Errors assume that the covariance matrix of the errors is correctly specified.\n"
     ]
    },
    {
     "data": {
      "text/plain": [
       "<AxesSubplot:xlabel='Sex', ylabel='VIQ'>"
      ]
     },
     "execution_count": 51,
     "metadata": {},
     "output_type": "execute_result"
    },
    {
     "data": {
      "image/png": "[encoded data removed]",
      "text/plain": [
       "<Figure size 432x288 with 1 Axes>"
      ]
     },
     "metadata": {
      "needs_background": "light"
     },
     "output_type": "display_data"
    }
   ],
   "source": [
    "model = ols(\"VIQ ~ Sex + 1\", data).fit()\n",
    "print(model.summary())\n",
    "\n",
    "sns.stripplot(x='Sex', y='VIQ',data=data)"
   ]
  },
  {
   "cell_type": "markdown",
   "id": "hollow-moses",
   "metadata": {},
   "source": [
    "**Tips on specifying model**\n",
    " \n",
    "   **Forcing categorical**: the 'Sex' is automatically detected as a\n",
    "   categorical variable, and thus each of its different values are\n",
    "   treated as different entities.\n",
    "\n",
    "   An integer column can be forced to be treated as categorical using:\n",
    "\n"
   ]
  },
  {
   "cell_type": "code",
   "execution_count": 56,
   "id": "religious-florida",
   "metadata": {},
   "outputs": [],
   "source": [
    "model = ols('VIQ ~ C(Sex)', data).fit()\n",
    "#print(model.summary())\n"
   ]
  },
  {
   "cell_type": "markdown",
   "id": "marine-conservation",
   "metadata": {},
   "source": [
    "**Intercept**: We can remove the intercept using `- 1` in the formula,\n",
    "   or force the use of an intercept using `+ 1`.\n"
   ]
  },
  {
   "cell_type": "markdown",
   "id": "sapphire-bacteria",
   "metadata": {},
   "source": [
    "*Tip:* By default, statsmodels treats a categorical variable with $K$ possible\n",
    "     values as $K-1$ 'dummy' boolean variables (the last level being\n",
    "     absorbed into the intercept term).  This is almost always a good\n",
    "     default choice - however, it is possible to [specify different\n",
    "     encodings for categorical variables](http://statsmodels.sourceforge.net/devel/contrasts.html).\n"
   ]
  },
  {
   "cell_type": "markdown",
   "id": "alike-delivery",
   "metadata": {},
   "source": [
    "### Multiple Regression: including multiple factors\n",
    "Consider a linear model explaining a variable `z` (the dependent\n",
    "variable) with 2 variables `x` and `y`:\n",
    "\n",
    "$z = x * c_1 + y * c_2 + i + e$\n",
    "\n",
    "Such a model can be seen in 3D as fitting a plane to a cloud of $(x,\n",
    "y, z)$ points.\n",
    "\n",
    "\n",
    "**Example: the iris data** (`examples/iris.csv`)\n",
    "\n",
    ".. tip:\n",
    "\n",
    "    Sepal and petal size tend to be related: bigger flowers are bigger!\n",
    "    But is there in addition a systematic effect of species?\n"
   ]
  },
  {
   "cell_type": "code",
   "execution_count": 14,
   "id": "laughing-validity",
   "metadata": {},
   "outputs": [
    {
     "name": "stdout",
     "output_type": "stream",
     "text": [
      "                            OLS Regression Results                            \n",
      "==============================================================================\n",
      "Dep. Variable:            sepal_width   R-squared:                       0.478\n",
      "Model:                            OLS   Adj. R-squared:                  0.468\n",
      "Method:                 Least Squares   F-statistic:                     44.63\n",
      "Date:                Wed, 24 Feb 2021   Prob (F-statistic):           1.58e-20\n",
      "Time:                        09:43:03   Log-Likelihood:                -38.185\n",
      "No. Observations:                 150   AIC:                             84.37\n",
      "Df Residuals:                     146   BIC:                             96.41\n",
      "Df Model:                           3                                         \n",
      "Covariance Type:            nonrobust                                         \n",
      "======================================================================================\n",
      "                         coef    std err          t      P>|t|      [0.025      0.975]\n",
      "--------------------------------------------------------------------------------------\n",
      "Intercept              2.9813      0.099     29.989      0.000       2.785       3.178\n",
      "name[T.versicolor]    -1.4821      0.181     -8.190      0.000      -1.840      -1.124\n",
      "name[T.virginica]     -1.6635      0.256     -6.502      0.000      -2.169      -1.158\n",
      "petal_length           0.2983      0.061      4.920      0.000       0.178       0.418\n",
      "==============================================================================\n",
      "Omnibus:                        2.868   Durbin-Watson:                   1.753\n",
      "Prob(Omnibus):                  0.238   Jarque-Bera (JB):                2.885\n",
      "Skew:                          -0.082   Prob(JB):                        0.236\n",
      "Kurtosis:                       3.659   Cond. No.                         54.0\n",
      "==============================================================================\n",
      "\n",
      "Notes:\n",
      "[1] Standard Errors assume that the covariance matrix of the errors is correctly specified.\n"
     ]
    },
    {
     "data": {
      "image/png": "[encoded data removed]",
      "text/plain": [
       "<Figure size 444.75x360 with 6 Axes>"
      ]
     },
     "metadata": {
      "needs_background": "light"
     },
     "output_type": "display_data"
    }
   ],
   "source": [
    "iris = pd.read_csv('examples/iris.csv')\n",
    "iris.head()\n",
    "\n",
    "sns.pairplot(iris, vars=['sepal_width','petal_length'], kind='reg', hue='name')\n",
    "                 \n",
    "model = ols('sepal_width ~ name + petal_length', data=iris).fit()\n",
    "print(model.summary())  "
   ]
  },
  {
   "cell_type": "markdown",
   "id": "compound-observation",
   "metadata": {},
   "source": [
    "### Post-hoc hypothesis testing: analysis of variance (ANOVA)\n",
    "In the above iris example, we wish to test if the petal length is\n",
    "different between versicolor and virginica, after removing the effect of\n",
    "sepal width. This can be formulated as testing the difference between the\n",
    "coefficient associated to versicolor and virginica in the linear model\n",
    "estimated above (it is an Analysis of Variance, [ANOVA](https://en.wikipedia.org/wiki/Analysis_of_variance). For this, we\n",
    "write a **vector of 'contrast'** on the parameters estimated: we want to\n",
    "test `name[T.versicolor] - name[T.virginica]`, with an [F-test](https://en.wikipedia.org/wiki/F-test):\n"
   ]
  },
  {
   "cell_type": "code",
   "execution_count": 16,
   "id": "dutch-programming",
   "metadata": {},
   "outputs": [
    {
     "name": "stdout",
     "output_type": "stream",
     "text": [
      "<F test: F=array([[3.24533535]]), p=0.07369058781701113, df_denom=146, df_num=1>\n"
     ]
    }
   ],
   "source": [
    "print(model.f_test([0, 1, -1, 0]))\n",
    "?model.f_test\n",
    "#Is this difference significant?"
   ]
  },
  {
   "cell_type": "markdown",
   "id": "specialized-turtle",
   "metadata": {},
   "source": [
    "**Key Points**\n",
    "\n",
    "   * Hypothesis testing and p-values give you the **significance** of an\n",
    "     effect / difference.\n",
    "\n",
    "   * **Formulas** (with categorical variables) enable you to express rich\n",
    "     links in your data.\n",
    "\n",
    "   * **Visualizing** your data and fitting simple models give insight into the \n",
    "     data.\n",
    "\n",
    "   * **Conditioning** (adding factors that can explain all or part of\n",
    "     the variation) is an important modeling aspect that changes the\n",
    "     interpretation."
   ]
  }
 ],
 "metadata": {
  "kernelspec": {
   "display_name": "Python 3",
   "language": "python",
   "name": "python3"
  },
  "language_info": {
   "codemirror_mode": {
    "name": "ipython",
    "version": 3
   },
   "file_extension": ".py",
   "mimetype": "text/x-python",
   "name": "python",
   "nbconvert_exporter": "python",
   "pygments_lexer": "ipython3",
   "version": "3.8.5"
  }
 },
 "nbformat": 4,
 "nbformat_minor": 5
}
